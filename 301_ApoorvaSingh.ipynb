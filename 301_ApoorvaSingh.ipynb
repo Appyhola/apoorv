{
  "cells": [
    {
      "cell_type": "markdown",
      "metadata": {
        "id": "view-in-github",
        "colab_type": "text"
      },
      "source": [
        "<a href=\"https://colab.research.google.com/github/Appyhola/apoorv/blob/main/301_ApoorvaSingh.ipynb\" target=\"_parent\"><img src=\"https://colab.research.google.com/assets/colab-badge.svg\" alt=\"Open In Colab\"/></a>"
      ]
    },
    {
      "cell_type": "code",
      "execution_count": null,
      "metadata": {
        "colab": {
          "base_uri": "https://localhost:8080/"
        },
        "id": "kxYreUd50VWf",
        "outputId": "0bc0d993-f815-477b-81a9-676275695f3e"
      },
      "outputs": [
        {
          "name": "stdout",
          "output_type": "stream",
          "text": [
            "26\n"
          ]
        }
      ],
      "source": [
        "a=26\n",
        "print (a)\n"
      ]
    },
    {
      "cell_type": "code",
      "execution_count": null,
      "metadata": {
        "colab": {
          "base_uri": "https://localhost:8080/"
        },
        "id": "_tbsP_3F0xb2",
        "outputId": "9a81a31c-dc19-4d6b-8105-79aeab10c5c1"
      },
      "outputs": [
        {
          "name": "stdout",
          "output_type": "stream",
          "text": [
            "a as int 25\n",
            "b as long 54868\n",
            "c as float 14.25\n",
            "d as complex 3.14j\n",
            "Welcome to python\n",
            "[15, 25.6, 'python']\n",
            "(21, 'python', 21.45)\n",
            "{'Aradhana': 21, 'Prarthana': 100, 'Rugved': 23}\n"
          ]
        }
      ],
      "source": [
        "a=25\n",
        "print(\"a as int\",a)\n",
        "b=54868\n",
        "print(\"b as long\",b)\n",
        "c=14.25\n",
        "print(\"c as float\",c)\n",
        "d=3.14j\n",
        "print(\"d as complex\",d)\n",
        "str1=\"Welcome to python\"\n",
        "print(str1)\n",
        "l1=[15,25.6,\"python\"]\n",
        "print(l1)\n",
        "t1=(21,\"python\",21.45)\n",
        "print(t1)\n",
        "d1={\"Aradhana\": 21,\"Prarthana\":100,\"Rugved\":23}\n",
        "print(d1)"
      ]
    },
    {
      "cell_type": "code",
      "execution_count": null,
      "metadata": {
        "colab": {
          "base_uri": "https://localhost:8080/"
        },
        "id": "CfuckU5L2Oal",
        "outputId": "21cf0c2d-9016-4f49-eee0-f5b4241e08ce"
      },
      "outputs": [
        {
          "name": "stdout",
          "output_type": "stream",
          "text": [
            "89\n",
            "45\n",
            "103\n",
            "103 is largest\n",
            "Enter a number\n",
            "34\n",
            "34 is even\n",
            "23\n",
            "4\n",
            "45\n",
            "45 is largest\n",
            "main area ends\n",
            "Enter any number\n",
            "34\n",
            "34 is even\n"
          ]
        }
      ],
      "source": [
        "n1=int(input())\n",
        "n2=int(input())\n",
        "n3=int(input())\n",
        "if n1>n2 and n1>n3 :\n",
        "    print(n1,\"is largest\")\n",
        "if n2>n1 and n2>n3 :\n",
        "  print(n2,\"is largest\")\n",
        "if n3>n1 and n3>n2 :\n",
        "  print(n3,\"is largest\")\n",
        "print(\"Enter a number\")\n",
        "num=int(input())\n",
        "if num%2==0:\n",
        "  print(num,\"is even\")\n",
        "else:\n",
        "  print(num,\"is odd\")\n",
        "n1=int(input())\n",
        "n2=int(input())\n",
        "n3=int(input())\n",
        "if n1>n2:\n",
        "  if n1>n3:\n",
        "    print(n1,\"is largest\")\n",
        "if n2>n1:\n",
        "  if n2>n3:\n",
        "    print(n2,\"is largest\")\n",
        "if n3>n1:\n",
        "  if n3>n2:\n",
        "    print(n3,\"is largest\")\n",
        "print(\"main area ends\")\n",
        "print(\"Enter any number\")\n",
        "num=int(input())\n",
        "print(num,\"is even\") if num%2==0 else print(num,\"is odd\")\n",
        "345"
      ]
    },
    {
      "cell_type": "code",
      "execution_count": null,
      "metadata": {
        "colab": {
          "base_uri": "https://localhost:8080/"
        },
        "id": "hbDg0Wzy2UzG",
        "outputId": "21dab066-a285-486c-9e07-ff1593bbc4c4"
      },
      "outputs": [
        {
          "name": "stdout",
          "output_type": "stream",
          "text": [
            "What is the weather today?Rainy\n",
            "not ideal for picnic,is it?\n"
          ]
        }
      ],
      "source": [
        "weather=input(\"What is the weather today?\")\n",
        "if weather ==\"Sunny\":\n",
        "  print(\"It is a great day to go for a picnic!\")\n",
        "else:\n",
        "  print(\"not ideal for picnic,is it?\")"
      ]
    },
    {
      "cell_type": "code",
      "execution_count": null,
      "metadata": {
        "colab": {
          "base_uri": "https://localhost:8080/"
        },
        "id": "Ini4mYPx3mB3",
        "outputId": "f83ef5a1-1d07-434e-d12b-fba881035226"
      },
      "outputs": [
        {
          "name": "stdout",
          "output_type": "stream",
          "text": [
            "What is the weather today?Winter\n",
            "Sorry,I don't understand that weather condition.\n"
          ]
        }
      ],
      "source": [
        "weather = input(\"What is the weather today?\")\n",
        "if weather == \"Sunny\":\n",
        "  print(\"It is a great day to go for picnic!\")\n",
        "elif weather ==\"Cloudy\":\n",
        "  print(\"Don't forget to bring a jacket in case it rains.\")\n",
        "elif weather == \"Rainy\":\n",
        "  print(\"Remember to bring an umbrella!\")\n",
        "else:\n",
        "  print(\"Sorry,I don't understand that weather condition.\")"
      ]
    },
    {
      "cell_type": "code",
      "execution_count": null,
      "metadata": {
        "colab": {
          "base_uri": "https://localhost:8080/"
        },
        "id": "qLbnj-Gh3qs_",
        "outputId": "88db4f28-dbf1-42c7-cf49-ba1682c8f18e"
      },
      "outputs": [
        {
          "name": "stdout",
          "output_type": "stream",
          "text": [
            "Welcome\n",
            "Welcome\n",
            "Welcome\n",
            "Welcome\n",
            "Welcome\n",
            "Welcome\n",
            "Welcome\n",
            "Welcome\n",
            "Welcome\n",
            "Enter a value \n",
            "10\n",
            "Sum 15\n",
            "loop refers to book C++\n",
            "loop refers to book Java\n",
            "loop refers to book Python\n",
            "loop refers to book 21\n",
            "loop refers to book 45.78\n"
          ]
        }
      ],
      "source": [
        "i=1\n",
        "while i<10:\n",
        "  print(\"Welcome\")\n",
        "  i=i+1\n",
        "\n",
        "print(\"Enter a value \")\n",
        "num = int(input())\n",
        "sum=0\n",
        "i=1\n",
        "while i<num:\n",
        "  sum = sum + i\n",
        "  i=i+i\n",
        "print(\"Sum\",sum)\n",
        "# for loop\n",
        "l1 = [\"C++\",\"Java\",\"Python\",21,45.78]\n",
        "for i in l1:\n",
        "  print(\"loop refers to book\",i)"
      ]
    },
    {
      "cell_type": "code",
      "execution_count": null,
      "metadata": {
        "colab": {
          "base_uri": "https://localhost:8080/"
        },
        "id": "1v-enava42eX",
        "outputId": "7ec33902-cac3-42bf-8f56-2f0eec44a254"
      },
      "outputs": [
        {
          "name": "stdout",
          "output_type": "stream",
          "text": [
            "Welcome to python\n",
            "Enter a number\n",
            "23\n",
            "23 is odd\n"
          ]
        }
      ],
      "source": [
        "def sayHello():\n",
        "  print(\"Welcome to python\")\n",
        "sayHello()\n",
        "def even():\n",
        "      print(\"Enter a number\")\n",
        "      num=int(input())\n",
        "      if(num%2==0):\n",
        "        print(num,\"is even\")\n",
        "      else:\n",
        "        print(num,\"is odd\")\n",
        "even()"
      ]
    },
    {
      "cell_type": "code",
      "execution_count": null,
      "metadata": {
        "colab": {
          "base_uri": "https://localhost:8080/"
        },
        "id": "pXZPVxJu48_3",
        "outputId": "9f21e66c-70df-4968-9c38-03996763abd8"
      },
      "outputs": [
        {
          "name": "stdout",
          "output_type": "stream",
          "text": [
            "<class 'int'>\n",
            "<class 'bool'>\n",
            "<class 'float'>\n",
            "<class 'list'>\n",
            "15\n",
            "False\n",
            "False\n",
            "True\n",
            "False\n",
            "False\n"
          ]
        }
      ],
      "source": [
        "a=10\n",
        "b=True\n",
        "c=16.55\n",
        "d=[10,20,30]\n",
        "print(type(a))\n",
        "print(type(b))\n",
        "print(type(c))\n",
        "print(type(d))\n",
        "print(abs(15))\n",
        "l1=[\"\",\"\",\"\"]\n",
        "l2=[\"a\",\"\",\"\"]\n",
        "l3=[True,True]\n",
        "l4=[True,False]\n",
        "l5=[False,False]\n",
        "print(all(l1))\n",
        "print(all(l2))\n",
        "print(all(l3))\n",
        "print(all(l4))\n",
        "print(all(l5))\n",
        "\n"
      ]
    },
    {
      "cell_type": "code",
      "execution_count": null,
      "metadata": {
        "colab": {
          "base_uri": "https://localhost:8080/"
        },
        "id": "Bb6i_WNk5F0H",
        "outputId": "51e75b41-7902-4dc1-acdd-682a55a4dd50"
      },
      "outputs": [
        {
          "name": "stdout",
          "output_type": "stream",
          "text": [
            "True\n",
            "True\n",
            "False\n",
            "False\n"
          ]
        }
      ],
      "source": [
        "print(callable(type))\n",
        "print(callable(all))\n",
        "print(callable([10,20,30]))\n",
        "print(callable('Python'))"
      ]
    },
    {
      "cell_type": "code",
      "execution_count": null,
      "metadata": {
        "colab": {
          "base_uri": "https://localhost:8080/"
        },
        "id": "AJV3V7PU5MNn",
        "outputId": "90b5ed6a-4815-4e5b-fead-ecc4da046cf3"
      },
      "outputs": [
        {
          "name": "stdout",
          "output_type": "stream",
          "text": [
            "True\n",
            "False\n",
            "True\n",
            "False\n",
            "False\n"
          ]
        }
      ],
      "source": [
        "l1=['a','b','c',12,21.34]\n",
        "l2=['a','','']\n",
        "l3=[True,True]\n",
        "l4=[True,False]\n",
        "l5=[False,False]\n",
        "a=all(l1)\n",
        "b=all(l2)\n",
        "c=all(l3)\n",
        "d=all(l4)\n",
        "e=all(l5)\n",
        "print(a)\n",
        "print(b)\n",
        "print(c)\n",
        "print(d)\n",
        "print(e)\n"
      ]
    },
    {
      "cell_type": "code",
      "execution_count": null,
      "metadata": {
        "colab": {
          "base_uri": "https://localhost:8080/"
        },
        "id": "8e87XtMU5SE_",
        "outputId": "4e8446cc-78ce-40ce-fa1c-d631660ade32"
      },
      "outputs": [
        {
          "name": "stdout",
          "output_type": "stream",
          "text": [
            "[10, 20, 'Python', 94.2, 314, 21]\n"
          ]
        }
      ],
      "source": [
        "l1=[10,20,\"Python\",94.2,314]\n",
        "l1.append(21)\n",
        "print(l1)"
      ]
    },
    {
      "cell_type": "code",
      "execution_count": null,
      "metadata": {
        "colab": {
          "base_uri": "https://localhost:8080/"
        },
        "id": "R-9TckR_8ATY",
        "outputId": "41c7d2ef-4f5b-4ea8-f0c8-bc55e7d89880"
      },
      "outputs": [
        {
          "name": "stdout",
          "output_type": "stream",
          "text": [
            "['Python', 'Java', 'Essentials of data science']\n",
            "['Python', 'Java', 'Hadoop', 'Essentials of data science']\n"
          ]
        }
      ],
      "source": [
        "l1 = [\"Python\",\"Java\",\"Essentials of data science\"]\n",
        "print(l1)\n",
        "l1.insert(2,\"Hadoop\")\n",
        "print(l1)"
      ]
    },
    {
      "cell_type": "code",
      "execution_count": null,
      "metadata": {
        "colab": {
          "base_uri": "https://localhost:8080/"
        },
        "id": "OEuRDQK08uTp",
        "outputId": "57493070-9cc9-40df-f2ca-f1a9a6a88f9e"
      },
      "outputs": [
        {
          "name": "stdout",
          "output_type": "stream",
          "text": [
            "[10, 20, 30, 15, 35, 45, 55]\n"
          ]
        }
      ],
      "source": [
        "l1=[10,20,30]\n",
        "l2=[15,35,45,55]\n",
        "l1.extend(l2)\n",
        "print(l1)"
      ]
    },
    {
      "cell_type": "code",
      "execution_count": null,
      "metadata": {
        "colab": {
          "base_uri": "https://localhost:8080/"
        },
        "id": "PccMUHDN9Ghw",
        "outputId": "4affd873-0e61-4846-c93c-b044b50cf63f"
      },
      "outputs": [
        {
          "name": "stdout",
          "output_type": "stream",
          "text": [
            "4\n"
          ]
        }
      ],
      "source": [
        "l1=[485,21.344,\"Python\",25678]\n",
        "a = l1.__len__()\n",
        "print(a)"
      ]
    },
    {
      "cell_type": "code",
      "execution_count": null,
      "metadata": {
        "colab": {
          "base_uri": "https://localhost:8080/"
        },
        "id": "HYvkL1jDDsBE",
        "outputId": "c95d1d3c-51b2-4f81-8fe8-f65d701b3b93"
      },
      "outputs": [
        {
          "name": "stdout",
          "output_type": "stream",
          "text": [
            "    Sr. No. Employee ID        Employee Name Date of birth  Age\n",
            "0         1        W001      Kevin De Bruyne    1993-09-09   30\n",
            "1         2        W002         Lionel Messi    1987-04-09   36\n",
            "2         3        W003                Pedri    2004-12-12   19\n",
            "3         4        W004                 Gavi    2003-09-09   18\n",
            "4         5        W005       Erling Haaland    2001-08-08   22\n",
            "5         6        W006       Bernardo Silva    1995-12-05   28\n",
            "6         7        W007       Julian Alvarez    2000-12-01   23\n",
            "7         8        W008  Alexis Mac Allister    1999-11-01   24\n",
            "8         9        W009       Enzo Fernandez    2001-01-01   22\n",
            "9        10        W010          Kai Havertz    2000-02-03   23\n",
            "10       11        W011           Money Mase    1999-03-02   24\n",
            "11       12        W012          Reece James    2000-07-08   23\n",
            "12       13        W013             Jackie G    1996-04-06   27\n",
            "13       14        W014           Phil Foden    2001-05-05   22\n",
            "14       15        W015      Jude Bellingham    2004-01-02   19\n",
            "15       16        W016        Michael Scott    1978-08-08   45\n",
            "16       17        W017       Dwight Schrute    1989-09-07   34\n",
            "17       18        W018          Jim Halpert    1994-02-04   29\n",
            "18       19        W019          Pam Halpert    1995-06-09   28\n",
            "19       20        W020       Stanley Hudson    1973-12-04   50\n"
          ]
        }
      ],
      "source": [
        "import pandas as pd\n",
        "df = pd.read_excel(r'/content/wagwan.xlsx')\n",
        "print(df)"
      ]
    },
    {
      "cell_type": "code",
      "execution_count": null,
      "metadata": {
        "colab": {
          "base_uri": "https://localhost:8080/"
        },
        "id": "ggprc9YZFbnE",
        "outputId": "49972aab-2713-4b18-bdc8-9e4067c2bb4f"
      },
      "outputs": [
        {
          "output_type": "stream",
          "name": "stdout",
          "text": [
            "      Name  Marks\n",
            "0   Apoorv   96.4\n",
            "1    Rohan   95.8\n",
            "2   Siddhu   93.2\n",
            "3   Ashish   93.6\n",
            "4    Kruti   94.8\n",
            "5  Kalpita   94.4\n",
            "6     Yash   85.0\n",
            "7   Kaveri   75.0\n"
          ]
        }
      ],
      "source": [
        "import pandas as pd\n",
        "df = pd.read_excel(r'/content/drive/MyDrive/10A.xlsx')\n",
        "print(df)"
      ]
    },
    {
      "cell_type": "code",
      "execution_count": null,
      "metadata": {
        "colab": {
          "base_uri": "https://localhost:8080/",
          "height": 677
        },
        "id": "e1y3qUEmGMws",
        "outputId": "90dc57f0-4036-4e80-a703-7133aa8bb5e7"
      },
      "outputs": [
        {
          "data": {
            "text/html": [
              "\n",
              "  <div id=\"df-8c438ba5-0ea2-4486-b47e-2129cb089501\">\n",
              "    <div class=\"colab-df-container\">\n",
              "      <div>\n",
              "<style scoped>\n",
              "    .dataframe tbody tr th:only-of-type {\n",
              "        vertical-align: middle;\n",
              "    }\n",
              "\n",
              "    .dataframe tbody tr th {\n",
              "        vertical-align: top;\n",
              "    }\n",
              "\n",
              "    .dataframe thead th {\n",
              "        text-align: right;\n",
              "    }\n",
              "</style>\n",
              "<table border=\"1\" class=\"dataframe\">\n",
              "  <thead>\n",
              "    <tr style=\"text-align: right;\">\n",
              "      <th></th>\n",
              "      <th>Sr. No.</th>\n",
              "      <th>Employee ID</th>\n",
              "      <th>Employee Name</th>\n",
              "      <th>Salary</th>\n",
              "    </tr>\n",
              "  </thead>\n",
              "  <tbody>\n",
              "    <tr>\n",
              "      <th>17</th>\n",
              "      <td>18</td>\n",
              "      <td>W018</td>\n",
              "      <td>Jim Halpert</td>\n",
              "      <td>200000</td>\n",
              "    </tr>\n",
              "    <tr>\n",
              "      <th>11</th>\n",
              "      <td>12</td>\n",
              "      <td>W012</td>\n",
              "      <td>Reece James</td>\n",
              "      <td>300000</td>\n",
              "    </tr>\n",
              "    <tr>\n",
              "      <th>9</th>\n",
              "      <td>10</td>\n",
              "      <td>W010</td>\n",
              "      <td>Kai Havertz</td>\n",
              "      <td>650000</td>\n",
              "    </tr>\n",
              "    <tr>\n",
              "      <th>1</th>\n",
              "      <td>2</td>\n",
              "      <td>W002</td>\n",
              "      <td>Lionel Messi</td>\n",
              "      <td>900000</td>\n",
              "    </tr>\n",
              "    <tr>\n",
              "      <th>15</th>\n",
              "      <td>16</td>\n",
              "      <td>W016</td>\n",
              "      <td>Michael Scott</td>\n",
              "      <td>2100000</td>\n",
              "    </tr>\n",
              "    <tr>\n",
              "      <th>5</th>\n",
              "      <td>6</td>\n",
              "      <td>W006</td>\n",
              "      <td>Bernardo Silva</td>\n",
              "      <td>2350000</td>\n",
              "    </tr>\n",
              "    <tr>\n",
              "      <th>16</th>\n",
              "      <td>17</td>\n",
              "      <td>W017</td>\n",
              "      <td>Dwight Schrute</td>\n",
              "      <td>3400000</td>\n",
              "    </tr>\n",
              "    <tr>\n",
              "      <th>12</th>\n",
              "      <td>13</td>\n",
              "      <td>W013</td>\n",
              "      <td>Jackie G</td>\n",
              "      <td>3500000</td>\n",
              "    </tr>\n",
              "    <tr>\n",
              "      <th>0</th>\n",
              "      <td>1</td>\n",
              "      <td>W001</td>\n",
              "      <td>Kevin De Bruyne</td>\n",
              "      <td>4000000</td>\n",
              "    </tr>\n",
              "    <tr>\n",
              "      <th>6</th>\n",
              "      <td>7</td>\n",
              "      <td>W007</td>\n",
              "      <td>Julian Alvarez</td>\n",
              "      <td>4500000</td>\n",
              "    </tr>\n",
              "    <tr>\n",
              "      <th>13</th>\n",
              "      <td>14</td>\n",
              "      <td>W014</td>\n",
              "      <td>Phil Foden</td>\n",
              "      <td>5500000</td>\n",
              "    </tr>\n",
              "    <tr>\n",
              "      <th>19</th>\n",
              "      <td>20</td>\n",
              "      <td>W020</td>\n",
              "      <td>Stanley Hudson</td>\n",
              "      <td>6900000</td>\n",
              "    </tr>\n",
              "    <tr>\n",
              "      <th>3</th>\n",
              "      <td>4</td>\n",
              "      <td>W004</td>\n",
              "      <td>Gavi</td>\n",
              "      <td>7800000</td>\n",
              "    </tr>\n",
              "    <tr>\n",
              "      <th>2</th>\n",
              "      <td>3</td>\n",
              "      <td>W003</td>\n",
              "      <td>Pedri</td>\n",
              "      <td>8000000</td>\n",
              "    </tr>\n",
              "    <tr>\n",
              "      <th>10</th>\n",
              "      <td>11</td>\n",
              "      <td>W011</td>\n",
              "      <td>Money Mase</td>\n",
              "      <td>8350000</td>\n",
              "    </tr>\n",
              "    <tr>\n",
              "      <th>7</th>\n",
              "      <td>8</td>\n",
              "      <td>W008</td>\n",
              "      <td>Alexis Mac Allister</td>\n",
              "      <td>8500000</td>\n",
              "    </tr>\n",
              "    <tr>\n",
              "      <th>18</th>\n",
              "      <td>19</td>\n",
              "      <td>W019</td>\n",
              "      <td>Pam Halpert</td>\n",
              "      <td>8900000</td>\n",
              "    </tr>\n",
              "    <tr>\n",
              "      <th>14</th>\n",
              "      <td>15</td>\n",
              "      <td>W015</td>\n",
              "      <td>Jude Bellingham</td>\n",
              "      <td>9800000</td>\n",
              "    </tr>\n",
              "    <tr>\n",
              "      <th>8</th>\n",
              "      <td>9</td>\n",
              "      <td>W009</td>\n",
              "      <td>Enzo Fernandez</td>\n",
              "      <td>75000000</td>\n",
              "    </tr>\n",
              "    <tr>\n",
              "      <th>4</th>\n",
              "      <td>5</td>\n",
              "      <td>W005</td>\n",
              "      <td>Erling Haaland</td>\n",
              "      <td>89000000</td>\n",
              "    </tr>\n",
              "  </tbody>\n",
              "</table>\n",
              "</div>\n",
              "      <button class=\"colab-df-convert\" onclick=\"convertToInteractive('df-8c438ba5-0ea2-4486-b47e-2129cb089501')\"\n",
              "              title=\"Convert this dataframe to an interactive table.\"\n",
              "              style=\"display:none;\">\n",
              "        \n",
              "  <svg xmlns=\"http://www.w3.org/2000/svg\" height=\"24px\"viewBox=\"0 0 24 24\"\n",
              "       width=\"24px\">\n",
              "    <path d=\"M0 0h24v24H0V0z\" fill=\"none\"/>\n",
              "    <path d=\"M18.56 5.44l.94 2.06.94-2.06 2.06-.94-2.06-.94-.94-2.06-.94 2.06-2.06.94zm-11 1L8.5 8.5l.94-2.06 2.06-.94-2.06-.94L8.5 2.5l-.94 2.06-2.06.94zm10 10l.94 2.06.94-2.06 2.06-.94-2.06-.94-.94-2.06-.94 2.06-2.06.94z\"/><path d=\"M17.41 7.96l-1.37-1.37c-.4-.4-.92-.59-1.43-.59-.52 0-1.04.2-1.43.59L10.3 9.45l-7.72 7.72c-.78.78-.78 2.05 0 2.83L4 21.41c.39.39.9.59 1.41.59.51 0 1.02-.2 1.41-.59l7.78-7.78 2.81-2.81c.8-.78.8-2.07 0-2.86zM5.41 20L4 18.59l7.72-7.72 1.47 1.35L5.41 20z\"/>\n",
              "  </svg>\n",
              "      </button>\n",
              "      \n",
              "  <style>\n",
              "    .colab-df-container {\n",
              "      display:flex;\n",
              "      flex-wrap:wrap;\n",
              "      gap: 12px;\n",
              "    }\n",
              "\n",
              "    .colab-df-convert {\n",
              "      background-color: #E8F0FE;\n",
              "      border: none;\n",
              "      border-radius: 50%;\n",
              "      cursor: pointer;\n",
              "      display: none;\n",
              "      fill: #1967D2;\n",
              "      height: 32px;\n",
              "      padding: 0 0 0 0;\n",
              "      width: 32px;\n",
              "    }\n",
              "\n",
              "    .colab-df-convert:hover {\n",
              "      background-color: #E2EBFA;\n",
              "      box-shadow: 0px 1px 2px rgba(60, 64, 67, 0.3), 0px 1px 3px 1px rgba(60, 64, 67, 0.15);\n",
              "      fill: #174EA6;\n",
              "    }\n",
              "\n",
              "    [theme=dark] .colab-df-convert {\n",
              "      background-color: #3B4455;\n",
              "      fill: #D2E3FC;\n",
              "    }\n",
              "\n",
              "    [theme=dark] .colab-df-convert:hover {\n",
              "      background-color: #434B5C;\n",
              "      box-shadow: 0px 1px 3px 1px rgba(0, 0, 0, 0.15);\n",
              "      filter: drop-shadow(0px 1px 2px rgba(0, 0, 0, 0.3));\n",
              "      fill: #FFFFFF;\n",
              "    }\n",
              "  </style>\n",
              "\n",
              "      <script>\n",
              "        const buttonEl =\n",
              "          document.querySelector('#df-8c438ba5-0ea2-4486-b47e-2129cb089501 button.colab-df-convert');\n",
              "        buttonEl.style.display =\n",
              "          google.colab.kernel.accessAllowed ? 'block' : 'none';\n",
              "\n",
              "        async function convertToInteractive(key) {\n",
              "          const element = document.querySelector('#df-8c438ba5-0ea2-4486-b47e-2129cb089501');\n",
              "          const dataTable =\n",
              "            await google.colab.kernel.invokeFunction('convertToInteractive',\n",
              "                                                     [key], {});\n",
              "          if (!dataTable) return;\n",
              "\n",
              "          const docLinkHtml = 'Like what you see? Visit the ' +\n",
              "            '<a target=\"_blank\" href=https://colab.research.google.com/notebooks/data_table.ipynb>data table notebook</a>'\n",
              "            + ' to learn more about interactive tables.';\n",
              "          element.innerHTML = '';\n",
              "          dataTable['output_type'] = 'display_data';\n",
              "          await google.colab.output.renderOutput(dataTable, element);\n",
              "          const docLink = document.createElement('div');\n",
              "          docLink.innerHTML = docLinkHtml;\n",
              "          element.appendChild(docLink);\n",
              "        }\n",
              "      </script>\n",
              "    </div>\n",
              "  </div>\n",
              "  "
            ],
            "text/plain": [
              "    Sr. No. Employee ID        Employee Name    Salary\n",
              "17       18        W018          Jim Halpert    200000\n",
              "11       12        W012          Reece James    300000\n",
              "9        10        W010          Kai Havertz    650000\n",
              "1         2        W002         Lionel Messi    900000\n",
              "15       16        W016        Michael Scott   2100000\n",
              "5         6        W006       Bernardo Silva   2350000\n",
              "16       17        W017       Dwight Schrute   3400000\n",
              "12       13        W013             Jackie G   3500000\n",
              "0         1        W001      Kevin De Bruyne   4000000\n",
              "6         7        W007       Julian Alvarez   4500000\n",
              "13       14        W014           Phil Foden   5500000\n",
              "19       20        W020       Stanley Hudson   6900000\n",
              "3         4        W004                 Gavi   7800000\n",
              "2         3        W003                Pedri   8000000\n",
              "10       11        W011           Money Mase   8350000\n",
              "7         8        W008  Alexis Mac Allister   8500000\n",
              "18       19        W019          Pam Halpert   8900000\n",
              "14       15        W015      Jude Bellingham   9800000\n",
              "8         9        W009       Enzo Fernandez  75000000\n",
              "4         5        W005       Erling Haaland  89000000"
            ]
          },
          "execution_count": 23,
          "metadata": {},
          "output_type": "execute_result"
        }
      ],
      "source": [
        "import pandas as pd\n",
        "df.sort_values(by=['Salary'])"
      ]
    },
    {
      "cell_type": "code",
      "execution_count": null,
      "metadata": {
        "colab": {
          "base_uri": "https://localhost:8080/",
          "height": 677
        },
        "id": "XQzLwJzGGd0T",
        "outputId": "85c568ed-695d-4779-fdda-21fa68669d7e"
      },
      "outputs": [
        {
          "data": {
            "text/html": [
              "\n",
              "  <div id=\"df-319cc05a-4d96-4835-a994-70735137a13e\">\n",
              "    <div class=\"colab-df-container\">\n",
              "      <div>\n",
              "<style scoped>\n",
              "    .dataframe tbody tr th:only-of-type {\n",
              "        vertical-align: middle;\n",
              "    }\n",
              "\n",
              "    .dataframe tbody tr th {\n",
              "        vertical-align: top;\n",
              "    }\n",
              "\n",
              "    .dataframe thead th {\n",
              "        text-align: right;\n",
              "    }\n",
              "</style>\n",
              "<table border=\"1\" class=\"dataframe\">\n",
              "  <thead>\n",
              "    <tr style=\"text-align: right;\">\n",
              "      <th></th>\n",
              "      <th>Sr. No.</th>\n",
              "      <th>Employee ID</th>\n",
              "      <th>Employee Name</th>\n",
              "      <th>Salary</th>\n",
              "    </tr>\n",
              "  </thead>\n",
              "  <tbody>\n",
              "    <tr>\n",
              "      <th>4</th>\n",
              "      <td>5</td>\n",
              "      <td>W005</td>\n",
              "      <td>Erling Haaland</td>\n",
              "      <td>89000000</td>\n",
              "    </tr>\n",
              "    <tr>\n",
              "      <th>8</th>\n",
              "      <td>9</td>\n",
              "      <td>W009</td>\n",
              "      <td>Enzo Fernandez</td>\n",
              "      <td>75000000</td>\n",
              "    </tr>\n",
              "    <tr>\n",
              "      <th>14</th>\n",
              "      <td>15</td>\n",
              "      <td>W015</td>\n",
              "      <td>Jude Bellingham</td>\n",
              "      <td>9800000</td>\n",
              "    </tr>\n",
              "    <tr>\n",
              "      <th>18</th>\n",
              "      <td>19</td>\n",
              "      <td>W019</td>\n",
              "      <td>Pam Halpert</td>\n",
              "      <td>8900000</td>\n",
              "    </tr>\n",
              "    <tr>\n",
              "      <th>7</th>\n",
              "      <td>8</td>\n",
              "      <td>W008</td>\n",
              "      <td>Alexis Mac Allister</td>\n",
              "      <td>8500000</td>\n",
              "    </tr>\n",
              "    <tr>\n",
              "      <th>10</th>\n",
              "      <td>11</td>\n",
              "      <td>W011</td>\n",
              "      <td>Money Mase</td>\n",
              "      <td>8350000</td>\n",
              "    </tr>\n",
              "    <tr>\n",
              "      <th>2</th>\n",
              "      <td>3</td>\n",
              "      <td>W003</td>\n",
              "      <td>Pedri</td>\n",
              "      <td>8000000</td>\n",
              "    </tr>\n",
              "    <tr>\n",
              "      <th>3</th>\n",
              "      <td>4</td>\n",
              "      <td>W004</td>\n",
              "      <td>Gavi</td>\n",
              "      <td>7800000</td>\n",
              "    </tr>\n",
              "    <tr>\n",
              "      <th>19</th>\n",
              "      <td>20</td>\n",
              "      <td>W020</td>\n",
              "      <td>Stanley Hudson</td>\n",
              "      <td>6900000</td>\n",
              "    </tr>\n",
              "    <tr>\n",
              "      <th>13</th>\n",
              "      <td>14</td>\n",
              "      <td>W014</td>\n",
              "      <td>Phil Foden</td>\n",
              "      <td>5500000</td>\n",
              "    </tr>\n",
              "    <tr>\n",
              "      <th>6</th>\n",
              "      <td>7</td>\n",
              "      <td>W007</td>\n",
              "      <td>Julian Alvarez</td>\n",
              "      <td>4500000</td>\n",
              "    </tr>\n",
              "    <tr>\n",
              "      <th>0</th>\n",
              "      <td>1</td>\n",
              "      <td>W001</td>\n",
              "      <td>Kevin De Bruyne</td>\n",
              "      <td>4000000</td>\n",
              "    </tr>\n",
              "    <tr>\n",
              "      <th>12</th>\n",
              "      <td>13</td>\n",
              "      <td>W013</td>\n",
              "      <td>Jackie G</td>\n",
              "      <td>3500000</td>\n",
              "    </tr>\n",
              "    <tr>\n",
              "      <th>16</th>\n",
              "      <td>17</td>\n",
              "      <td>W017</td>\n",
              "      <td>Dwight Schrute</td>\n",
              "      <td>3400000</td>\n",
              "    </tr>\n",
              "    <tr>\n",
              "      <th>5</th>\n",
              "      <td>6</td>\n",
              "      <td>W006</td>\n",
              "      <td>Bernardo Silva</td>\n",
              "      <td>2350000</td>\n",
              "    </tr>\n",
              "    <tr>\n",
              "      <th>15</th>\n",
              "      <td>16</td>\n",
              "      <td>W016</td>\n",
              "      <td>Michael Scott</td>\n",
              "      <td>2100000</td>\n",
              "    </tr>\n",
              "    <tr>\n",
              "      <th>1</th>\n",
              "      <td>2</td>\n",
              "      <td>W002</td>\n",
              "      <td>Lionel Messi</td>\n",
              "      <td>900000</td>\n",
              "    </tr>\n",
              "    <tr>\n",
              "      <th>9</th>\n",
              "      <td>10</td>\n",
              "      <td>W010</td>\n",
              "      <td>Kai Havertz</td>\n",
              "      <td>650000</td>\n",
              "    </tr>\n",
              "    <tr>\n",
              "      <th>11</th>\n",
              "      <td>12</td>\n",
              "      <td>W012</td>\n",
              "      <td>Reece James</td>\n",
              "      <td>300000</td>\n",
              "    </tr>\n",
              "    <tr>\n",
              "      <th>17</th>\n",
              "      <td>18</td>\n",
              "      <td>W018</td>\n",
              "      <td>Jim Halpert</td>\n",
              "      <td>200000</td>\n",
              "    </tr>\n",
              "  </tbody>\n",
              "</table>\n",
              "</div>\n",
              "      <button class=\"colab-df-convert\" onclick=\"convertToInteractive('df-319cc05a-4d96-4835-a994-70735137a13e')\"\n",
              "              title=\"Convert this dataframe to an interactive table.\"\n",
              "              style=\"display:none;\">\n",
              "        \n",
              "  <svg xmlns=\"http://www.w3.org/2000/svg\" height=\"24px\"viewBox=\"0 0 24 24\"\n",
              "       width=\"24px\">\n",
              "    <path d=\"M0 0h24v24H0V0z\" fill=\"none\"/>\n",
              "    <path d=\"M18.56 5.44l.94 2.06.94-2.06 2.06-.94-2.06-.94-.94-2.06-.94 2.06-2.06.94zm-11 1L8.5 8.5l.94-2.06 2.06-.94-2.06-.94L8.5 2.5l-.94 2.06-2.06.94zm10 10l.94 2.06.94-2.06 2.06-.94-2.06-.94-.94-2.06-.94 2.06-2.06.94z\"/><path d=\"M17.41 7.96l-1.37-1.37c-.4-.4-.92-.59-1.43-.59-.52 0-1.04.2-1.43.59L10.3 9.45l-7.72 7.72c-.78.78-.78 2.05 0 2.83L4 21.41c.39.39.9.59 1.41.59.51 0 1.02-.2 1.41-.59l7.78-7.78 2.81-2.81c.8-.78.8-2.07 0-2.86zM5.41 20L4 18.59l7.72-7.72 1.47 1.35L5.41 20z\"/>\n",
              "  </svg>\n",
              "      </button>\n",
              "      \n",
              "  <style>\n",
              "    .colab-df-container {\n",
              "      display:flex;\n",
              "      flex-wrap:wrap;\n",
              "      gap: 12px;\n",
              "    }\n",
              "\n",
              "    .colab-df-convert {\n",
              "      background-color: #E8F0FE;\n",
              "      border: none;\n",
              "      border-radius: 50%;\n",
              "      cursor: pointer;\n",
              "      display: none;\n",
              "      fill: #1967D2;\n",
              "      height: 32px;\n",
              "      padding: 0 0 0 0;\n",
              "      width: 32px;\n",
              "    }\n",
              "\n",
              "    .colab-df-convert:hover {\n",
              "      background-color: #E2EBFA;\n",
              "      box-shadow: 0px 1px 2px rgba(60, 64, 67, 0.3), 0px 1px 3px 1px rgba(60, 64, 67, 0.15);\n",
              "      fill: #174EA6;\n",
              "    }\n",
              "\n",
              "    [theme=dark] .colab-df-convert {\n",
              "      background-color: #3B4455;\n",
              "      fill: #D2E3FC;\n",
              "    }\n",
              "\n",
              "    [theme=dark] .colab-df-convert:hover {\n",
              "      background-color: #434B5C;\n",
              "      box-shadow: 0px 1px 3px 1px rgba(0, 0, 0, 0.15);\n",
              "      filter: drop-shadow(0px 1px 2px rgba(0, 0, 0, 0.3));\n",
              "      fill: #FFFFFF;\n",
              "    }\n",
              "  </style>\n",
              "\n",
              "      <script>\n",
              "        const buttonEl =\n",
              "          document.querySelector('#df-319cc05a-4d96-4835-a994-70735137a13e button.colab-df-convert');\n",
              "        buttonEl.style.display =\n",
              "          google.colab.kernel.accessAllowed ? 'block' : 'none';\n",
              "\n",
              "        async function convertToInteractive(key) {\n",
              "          const element = document.querySelector('#df-319cc05a-4d96-4835-a994-70735137a13e');\n",
              "          const dataTable =\n",
              "            await google.colab.kernel.invokeFunction('convertToInteractive',\n",
              "                                                     [key], {});\n",
              "          if (!dataTable) return;\n",
              "\n",
              "          const docLinkHtml = 'Like what you see? Visit the ' +\n",
              "            '<a target=\"_blank\" href=https://colab.research.google.com/notebooks/data_table.ipynb>data table notebook</a>'\n",
              "            + ' to learn more about interactive tables.';\n",
              "          element.innerHTML = '';\n",
              "          dataTable['output_type'] = 'display_data';\n",
              "          await google.colab.output.renderOutput(dataTable, element);\n",
              "          const docLink = document.createElement('div');\n",
              "          docLink.innerHTML = docLinkHtml;\n",
              "          element.appendChild(docLink);\n",
              "        }\n",
              "      </script>\n",
              "    </div>\n",
              "  </div>\n",
              "  "
            ],
            "text/plain": [
              "    Sr. No. Employee ID        Employee Name    Salary\n",
              "4         5        W005       Erling Haaland  89000000\n",
              "8         9        W009       Enzo Fernandez  75000000\n",
              "14       15        W015      Jude Bellingham   9800000\n",
              "18       19        W019          Pam Halpert   8900000\n",
              "7         8        W008  Alexis Mac Allister   8500000\n",
              "10       11        W011           Money Mase   8350000\n",
              "2         3        W003                Pedri   8000000\n",
              "3         4        W004                 Gavi   7800000\n",
              "19       20        W020       Stanley Hudson   6900000\n",
              "13       14        W014           Phil Foden   5500000\n",
              "6         7        W007       Julian Alvarez   4500000\n",
              "0         1        W001      Kevin De Bruyne   4000000\n",
              "12       13        W013             Jackie G   3500000\n",
              "16       17        W017       Dwight Schrute   3400000\n",
              "5         6        W006       Bernardo Silva   2350000\n",
              "15       16        W016        Michael Scott   2100000\n",
              "1         2        W002         Lionel Messi    900000\n",
              "9        10        W010          Kai Havertz    650000\n",
              "11       12        W012          Reece James    300000\n",
              "17       18        W018          Jim Halpert    200000"
            ]
          },
          "execution_count": 24,
          "metadata": {},
          "output_type": "execute_result"
        }
      ],
      "source": [
        "df.sort_values(by=['Salary'],ascending = False)"
      ]
    },
    {
      "cell_type": "code",
      "execution_count": null,
      "metadata": {
        "colab": {
          "base_uri": "https://localhost:8080/"
        },
        "id": "RvmHD_kkGnQt",
        "outputId": "edd3edfd-6dfb-473b-b158-ebc8d45bed3e"
      },
      "outputs": [
        {
          "name": "stdout",
          "output_type": "stream",
          "text": [
            "    Sr. No. Employee ID        Employee Name    Salary\n",
            "4         5        W005       Erling Haaland  89000000\n",
            "8         9        W009       Enzo Fernandez  75000000\n",
            "14       15        W015      Jude Bellingham   9800000\n",
            "18       19        W019          Pam Halpert   8900000\n",
            "7         8        W008  Alexis Mac Allister   8500000\n",
            "10       11        W011           Money Mase   8350000\n",
            "2         3        W003                Pedri   8000000\n",
            "3         4        W004                 Gavi   7800000\n",
            "19       20        W020       Stanley Hudson   6900000\n",
            "13       14        W014           Phil Foden   5500000\n",
            "6         7        W007       Julian Alvarez   4500000\n",
            "0         1        W001      Kevin De Bruyne   4000000\n",
            "12       13        W013             Jackie G   3500000\n",
            "16       17        W017       Dwight Schrute   3400000\n",
            "5         6        W006       Bernardo Silva   2350000\n",
            "15       16        W016        Michael Scott   2100000\n",
            "1         2        W002         Lionel Messi    900000\n",
            "9        10        W010          Kai Havertz    650000\n",
            "11       12        W012          Reece James    300000\n",
            "17       18        W018          Jim Halpert    200000\n"
          ]
        }
      ],
      "source": [
        "import pandas as pd\n",
        "\n",
        "df=pd.read_excel('/content/judgesalary.xlsx')\n",
        "def sal():\n",
        "  a=df.sort_values(by=['Salary'],ascending=False)\n",
        "  a.nlargest(5,'Salary','first')\n",
        "  print(a)\n",
        "sal()"
      ]
    },
    {
      "cell_type": "code",
      "execution_count": null,
      "metadata": {
        "colab": {
          "base_uri": "https://localhost:8080/",
          "height": 143
        },
        "id": "NGLbxDcqHIac",
        "outputId": "a1a135da-881f-4d14-b4da-124ef12db5c6"
      },
      "outputs": [
        {
          "data": {
            "text/html": [
              "\n",
              "  <div id=\"df-2f5a5439-fafb-437c-aab6-d25ce8dbbdc1\">\n",
              "    <div class=\"colab-df-container\">\n",
              "      <div>\n",
              "<style scoped>\n",
              "    .dataframe tbody tr th:only-of-type {\n",
              "        vertical-align: middle;\n",
              "    }\n",
              "\n",
              "    .dataframe tbody tr th {\n",
              "        vertical-align: top;\n",
              "    }\n",
              "\n",
              "    .dataframe thead th {\n",
              "        text-align: right;\n",
              "    }\n",
              "</style>\n",
              "<table border=\"1\" class=\"dataframe\">\n",
              "  <thead>\n",
              "    <tr style=\"text-align: right;\">\n",
              "      <th></th>\n",
              "      <th>Name</th>\n",
              "      <th>City</th>\n",
              "      <th>Age</th>\n",
              "    </tr>\n",
              "  </thead>\n",
              "  <tbody>\n",
              "    <tr>\n",
              "      <th>0</th>\n",
              "      <td>Apoorv</td>\n",
              "      <td>Vimannagar</td>\n",
              "      <td>18</td>\n",
              "    </tr>\n",
              "    <tr>\n",
              "      <th>1</th>\n",
              "      <td>Rohan</td>\n",
              "      <td>Vishrantwadi</td>\n",
              "      <td>45</td>\n",
              "    </tr>\n",
              "    <tr>\n",
              "      <th>2</th>\n",
              "      <td>Siddharth</td>\n",
              "      <td>Lohegaon</td>\n",
              "      <td>55</td>\n",
              "    </tr>\n",
              "  </tbody>\n",
              "</table>\n",
              "</div>\n",
              "      <button class=\"colab-df-convert\" onclick=\"convertToInteractive('df-2f5a5439-fafb-437c-aab6-d25ce8dbbdc1')\"\n",
              "              title=\"Convert this dataframe to an interactive table.\"\n",
              "              style=\"display:none;\">\n",
              "        \n",
              "  <svg xmlns=\"http://www.w3.org/2000/svg\" height=\"24px\"viewBox=\"0 0 24 24\"\n",
              "       width=\"24px\">\n",
              "    <path d=\"M0 0h24v24H0V0z\" fill=\"none\"/>\n",
              "    <path d=\"M18.56 5.44l.94 2.06.94-2.06 2.06-.94-2.06-.94-.94-2.06-.94 2.06-2.06.94zm-11 1L8.5 8.5l.94-2.06 2.06-.94-2.06-.94L8.5 2.5l-.94 2.06-2.06.94zm10 10l.94 2.06.94-2.06 2.06-.94-2.06-.94-.94-2.06-.94 2.06-2.06.94z\"/><path d=\"M17.41 7.96l-1.37-1.37c-.4-.4-.92-.59-1.43-.59-.52 0-1.04.2-1.43.59L10.3 9.45l-7.72 7.72c-.78.78-.78 2.05 0 2.83L4 21.41c.39.39.9.59 1.41.59.51 0 1.02-.2 1.41-.59l7.78-7.78 2.81-2.81c.8-.78.8-2.07 0-2.86zM5.41 20L4 18.59l7.72-7.72 1.47 1.35L5.41 20z\"/>\n",
              "  </svg>\n",
              "      </button>\n",
              "      \n",
              "  <style>\n",
              "    .colab-df-container {\n",
              "      display:flex;\n",
              "      flex-wrap:wrap;\n",
              "      gap: 12px;\n",
              "    }\n",
              "\n",
              "    .colab-df-convert {\n",
              "      background-color: #E8F0FE;\n",
              "      border: none;\n",
              "      border-radius: 50%;\n",
              "      cursor: pointer;\n",
              "      display: none;\n",
              "      fill: #1967D2;\n",
              "      height: 32px;\n",
              "      padding: 0 0 0 0;\n",
              "      width: 32px;\n",
              "    }\n",
              "\n",
              "    .colab-df-convert:hover {\n",
              "      background-color: #E2EBFA;\n",
              "      box-shadow: 0px 1px 2px rgba(60, 64, 67, 0.3), 0px 1px 3px 1px rgba(60, 64, 67, 0.15);\n",
              "      fill: #174EA6;\n",
              "    }\n",
              "\n",
              "    [theme=dark] .colab-df-convert {\n",
              "      background-color: #3B4455;\n",
              "      fill: #D2E3FC;\n",
              "    }\n",
              "\n",
              "    [theme=dark] .colab-df-convert:hover {\n",
              "      background-color: #434B5C;\n",
              "      box-shadow: 0px 1px 3px 1px rgba(0, 0, 0, 0.15);\n",
              "      filter: drop-shadow(0px 1px 2px rgba(0, 0, 0, 0.3));\n",
              "      fill: #FFFFFF;\n",
              "    }\n",
              "  </style>\n",
              "\n",
              "      <script>\n",
              "        const buttonEl =\n",
              "          document.querySelector('#df-2f5a5439-fafb-437c-aab6-d25ce8dbbdc1 button.colab-df-convert');\n",
              "        buttonEl.style.display =\n",
              "          google.colab.kernel.accessAllowed ? 'block' : 'none';\n",
              "\n",
              "        async function convertToInteractive(key) {\n",
              "          const element = document.querySelector('#df-2f5a5439-fafb-437c-aab6-d25ce8dbbdc1');\n",
              "          const dataTable =\n",
              "            await google.colab.kernel.invokeFunction('convertToInteractive',\n",
              "                                                     [key], {});\n",
              "          if (!dataTable) return;\n",
              "\n",
              "          const docLinkHtml = 'Like what you see? Visit the ' +\n",
              "            '<a target=\"_blank\" href=https://colab.research.google.com/notebooks/data_table.ipynb>data table notebook</a>'\n",
              "            + ' to learn more about interactive tables.';\n",
              "          element.innerHTML = '';\n",
              "          dataTable['output_type'] = 'display_data';\n",
              "          await google.colab.output.renderOutput(dataTable, element);\n",
              "          const docLink = document.createElement('div');\n",
              "          docLink.innerHTML = docLinkHtml;\n",
              "          element.appendChild(docLink);\n",
              "        }\n",
              "      </script>\n",
              "    </div>\n",
              "  </div>\n",
              "  "
            ],
            "text/plain": [
              "        Name          City  Age\n",
              "0     Apoorv    Vimannagar   18\n",
              "1      Rohan  Vishrantwadi   45\n",
              "2  Siddharth      Lohegaon   55"
            ]
          },
          "execution_count": 28,
          "metadata": {},
          "output_type": "execute_result"
        }
      ],
      "source": [
        "import pandas as pd\n",
        "dict1= {\n",
        "    \"Name\": ['Apoorv','Rohan','Siddharth'],\n",
        "    \"City\":['Vimannagar','Vishrantwadi','Lohegaon'],\n",
        "    \"Age\":[18,45,55]\n",
        "    }\n",
        "df2=pd.DataFrame(dict1)\n",
        "df2"
      ]
    },
    {
      "cell_type": "code",
      "execution_count": null,
      "metadata": {
        "colab": {
          "base_uri": "https://localhost:8080/"
        },
        "id": "aTytgVFL7kJg",
        "outputId": "137e7f16-558d-4f68-e80b-72970333ef5f"
      },
      "outputs": [
        {
          "name": "stdout",
          "output_type": "stream",
          "text": [
            "60000\n"
          ]
        }
      ],
      "source": [
        "  volume = lambda l,b,h:l*b*h\n",
        "  print(volume(30,40,50))"
      ]
    },
    {
      "cell_type": "code",
      "execution_count": null,
      "metadata": {
        "colab": {
          "base_uri": "https://localhost:8080/"
        },
        "id": "uqT8-KweCFsx",
        "outputId": "c0a8c7f2-9814-44f2-b268-c02d0732064b"
      },
      "outputs": [
        {
          "name": "stdout",
          "output_type": "stream",
          "text": [
            "9400\n"
          ]
        }
      ],
      "source": [
        "tsa = lambda p,q,r:2*(p*q+q*r+p*r)\n",
        "print(tsa(30,40,50))"
      ]
    },
    {
      "cell_type": "code",
      "execution_count": null,
      "metadata": {
        "colab": {
          "base_uri": "https://localhost:8080/"
        },
        "id": "6MiuIS-YCuoA",
        "outputId": "7cdc4d6a-6047-45d4-81a3-3c85c7f76a50"
      },
      "outputs": [
        {
          "name": "stdout",
          "output_type": "stream",
          "text": [
            "3044.4498000000003\n"
          ]
        }
      ],
      "source": [
        "pi=3.14\n",
        "vol=lambda r:1.33*pi*r*r*r\n",
        "print(vol(9))"
      ]
    },
    {
      "cell_type": "code",
      "execution_count": null,
      "metadata": {
        "colab": {
          "base_uri": "https://localhost:8080/"
        },
        "id": "iLuzG7OJJr4v",
        "outputId": "068503cf-ebf1-4162-cb01-eb1a27db981b"
      },
      "outputs": [
        {
          "name": "stdout",
          "output_type": "stream",
          "text": [
            "{'Rohan': 95.8, 'Siddharth': 93.2, 'Ashish': 93.8}\n",
            "dict_keys(['Rohan', 'Siddharth', 'Ashish'])\n",
            "dict_values([95.8, 93.2, 93.8])\n",
            "{'Rohan': 95.8, 'Siddharth': 93.2, 'Ashish': 93.8, 'appy': 96.4}\n",
            "4\n",
            "{'Siddharth': 93.2, 'Ashish': 93.8, 'appy': 96.4}\n"
          ]
        }
      ],
      "source": [
        "dict1={\"Rohan\":95.8,\"Siddharth\":93.2,\"Ashish\":93.8}\n",
        "print(dict1)\n",
        "print(dict1.keys())\n",
        "print(dict1.values())\n",
        "dict1.update({\"appy\":96.4})\n",
        "print(dict1)\n",
        "a=dict1.__len__()\n",
        "print(a)\n",
        "dict1.pop(\"Rohan\")\n",
        "print(dict1)\n"
      ]
    },
    {
      "cell_type": "code",
      "execution_count": null,
      "metadata": {
        "colab": {
          "base_uri": "https://localhost:8080/"
        },
        "id": "uZOmDxisE2TK",
        "outputId": "6aa067c8-3f8f-4faa-dd0e-bef343f7d209"
      },
      "outputs": [
        {
          "name": "stdout",
          "output_type": "stream",
          "text": [
            "2023-05-03\n"
          ]
        }
      ],
      "source": [
        "from datetime import date\n",
        "Tuday=date.today()\n",
        "print(Tuday)"
      ]
    },
    {
      "cell_type": "code",
      "execution_count": null,
      "metadata": {
        "colab": {
          "base_uri": "https://localhost:8080/"
        },
        "id": "Q9hyJnonMsD9",
        "outputId": "7b378521-212e-4d86-82e3-aaec38be340c"
      },
      "outputs": [
        {
          "name": "stdout",
          "output_type": "stream",
          "text": [
            "Day: 3\n",
            "Month: 5\n",
            "Year: 2023\n"
          ]
        }
      ],
      "source": [
        "import datetime\n",
        "time_now=datetime.datetime.now()\n",
        "print(\"Day:\" ,time_now.day)\n",
        "print(\"Month:\" ,time_now.month)\n",
        "print(\"Year:\" ,time_now.year)"
      ]
    },
    {
      "cell_type": "code",
      "execution_count": null,
      "metadata": {
        "colab": {
          "base_uri": "https://localhost:8080/"
        },
        "id": "28F8dB3rTZLa",
        "outputId": "dc007664-b292-45e6-c098-e490a330763a"
      },
      "outputs": [
        {
          "name": "stdout",
          "output_type": "stream",
          "text": [
            "20 years old\n"
          ]
        }
      ],
      "source": [
        "def date_of_birth(dob):\n",
        "  today=date.today()\n",
        "  age=today.year-dob.year\n",
        "  return age\n",
        "print(date_of_birth(date(2003,8,21)),\"years old\")\n"
      ]
    },
    {
      "cell_type": "code",
      "execution_count": null,
      "metadata": {
        "colab": {
          "base_uri": "https://localhost:8080/"
        },
        "id": "NM6MlRoEU0Ou",
        "outputId": "2a453104-f126-467e-a7f3-efebebf500e3"
      },
      "outputs": [
        {
          "name": "stdout",
          "output_type": "stream",
          "text": [
            "Enter amount in dollars: 3500\n",
            "294000.0\n"
          ]
        }
      ],
      "source": [
        "dollar=float(input(\"Enter amount in dollars: \"))\n",
        "rupees=dollar*84\n",
        "print(round(rupees,2))"
      ]
    },
    {
      "cell_type": "code",
      "execution_count": null,
      "metadata": {
        "id": "uBNHpnLSVXXX"
      },
      "outputs": [],
      "source": [
        "import pandas as pd\n",
        "def t(l):\n",
        "  return l*10\n",
        "  l=[1,2,3,4,5]\n",
        "  df=pd.DataFrame(l)\n",
        "  ndf=df.transform(t)\n",
        "  print(ndf)"
      ]
    },
    {
      "cell_type": "code",
      "execution_count": null,
      "metadata": {
        "colab": {
          "base_uri": "https://localhost:8080/"
        },
        "id": "dxn6pmbSFyEm",
        "outputId": "c2bf6e85-f01c-45e6-ea86-48a082ccfd66"
      },
      "outputs": [
        {
          "name": "stdout",
          "output_type": "stream",
          "text": [
            "[10, 20, 30, 40, 'appy', 'rohan', 'sid', 'kavii']\n"
          ]
        }
      ],
      "source": [
        "troop=(\"appy\",\"rohan\",\"sid\",\"kavii\")\n",
        "list1=[10,20,30,40]\n",
        "list2=list(troop)\n",
        "print(list1+list2)"
      ]
    },
    {
      "cell_type": "code",
      "execution_count": null,
      "metadata": {
        "colab": {
          "base_uri": "https://localhost:8080/"
        },
        "id": "piFqVqwtHtKv",
        "outputId": "33b0a825-c00a-4a10-c326-09171d5178e2"
      },
      "outputs": [
        {
          "name": "stdout",
          "output_type": "stream",
          "text": [
            "lol\n"
          ]
        }
      ],
      "source": [
        "a=[10,30,50,70,90]\n",
        "b=[20,40,60,80]\n",
        "c=(a[3]==70 and b[1]==40)\n",
        "if (c==True):\n",
        "  print(\"lol\")\n",
        "else:\n",
        "  print(\"gw\")\n"
      ]
    },
    {
      "cell_type": "code",
      "execution_count": null,
      "metadata": {
        "colab": {
          "base_uri": "https://localhost:8080/"
        },
        "id": "2EyM-9qMNBL-",
        "outputId": "f2eaab38-8286-4893-c783-ae5b669cca66"
      },
      "outputs": [
        {
          "name": "stdout",
          "output_type": "stream",
          "text": [
            "gw\n"
          ]
        }
      ],
      "source": [
        "a=[10,30,50,70,90]\n",
        "b=[20,40,60,80]\n",
        "c=(a==[10,30,50,70,90] and b==[40,60,80])\n",
        "if (c==True):\n",
        "  print(\"lol\")\n",
        "else:\n",
        "  print(\"gw\")"
      ]
    },
    {
      "cell_type": "code",
      "execution_count": null,
      "metadata": {
        "colab": {
          "base_uri": "https://localhost:8080/"
        },
        "id": "OhGDHwxANbNn",
        "outputId": "fc80578d-d9db-4ac6-9527-06d08f8b3715"
      },
      "outputs": [
        {
          "name": "stdout",
          "output_type": "stream",
          "text": [
            "10\n",
            "30\n",
            "50\n",
            "70\n",
            "90\n"
          ]
        }
      ],
      "source": [
        "for i in a:\n",
        "\n",
        "  print(i)"
      ]
    },
    {
      "cell_type": "code",
      "execution_count": null,
      "metadata": {
        "colab": {
          "base_uri": "https://localhost:8080/"
        },
        "id": "bcYplJ-JN6AO",
        "outputId": "d2fed2cd-761a-47e2-9eba-8ab7ff772db6"
      },
      "outputs": [
        {
          "name": "stdout",
          "output_type": "stream",
          "text": [
            "appy\n",
            "a\n",
            "p\n",
            "p\n",
            "y\n",
            "rohan\n",
            "r\n",
            "o\n",
            "h\n",
            "a\n",
            "n\n",
            "sid\n",
            "s\n",
            "i\n",
            "d\n",
            "kavii\n",
            "k\n",
            "a\n",
            "v\n",
            "i\n",
            "i\n"
          ]
        }
      ],
      "source": [
        "gg=[\"appy\",\"rohan\",\"sid\",\"kavii\"]\n",
        "for i in gg:\n",
        "  print(i)\n",
        "  for m in i:\n",
        "    print(m)"
      ]
    },
    {
      "cell_type": "code",
      "execution_count": null,
      "metadata": {
        "colab": {
          "base_uri": "https://localhost:8080/"
        },
        "id": "-Q1nrONoOpJ2",
        "outputId": "08b31997-ae3f-4dd0-f231-ac6a39d203aa"
      },
      "outputs": [
        {
          "name": "stdout",
          "output_type": "stream",
          "text": [
            "3.0\n"
          ]
        }
      ],
      "source": [
        "cube_root=lambda a:a**(1/3)\n",
        "print(cube_root(27))"
      ]
    },
    {
      "cell_type": "code",
      "execution_count": null,
      "metadata": {
        "colab": {
          "base_uri": "https://localhost:8080/"
        },
        "id": "9y-jd8-zq8Cz",
        "outputId": "954220dc-b33f-4c38-afea-a0cd9039d90f"
      },
      "outputs": [
        {
          "name": "stdout",
          "output_type": "stream",
          "text": [
            "   ID       Name  Work Experience                   Role   Salary\n",
            "0   1    Apoorva                5                     HR  1025000\n",
            "1   2  Siddharth                3  Jr. Backend Developer   780000\n",
            "2   3    Saksham                4         Product Tester   890000\n",
            "3   4      Rohan                4     Frontend Developer   700000\n",
            "4   5    Anushka                3       Quality Incharge   650000\n",
            "5   6     Kaveri                5                Manager   850000\n",
            "6   7     Shweta                4          Risk Analyser   710000\n",
            "7   8       Yash                6   Full Stack Developer   650000\n",
            "8   9   Priyansh                3              Recruiter   412000\n",
            "9  10     Anusha                4          Data enginner   900000\n",
            "Average:\n",
            " ID                      5.5\n",
            "Work Experience         4.1\n",
            "Salary             756700.0\n",
            "dtype: float64\n",
            "Max:\n",
            " ID                            10\n",
            "Name                        Yash\n",
            "Work Experience                6\n",
            "Role               Risk Analyser\n",
            "Salary                   1025000\n",
            "dtype: object\n",
            "Min:\n",
            " ID                             1\n",
            "Name                      Anusha\n",
            "Work Experience                3\n",
            "Role               Data enginner\n",
            "Salary                    412000\n",
            "dtype: object\n",
            "Count:\n",
            " ID                 10\n",
            "Name               10\n",
            "Work Experience    10\n",
            "Role               10\n",
            "Salary             10\n",
            "dtype: int64\n",
            "Sum:\n",
            " ID                                                                55\n",
            "Name               ApoorvaSiddharthSakshamRohanAnushkaKaveriShwet...\n",
            "Work Experience                                                   41\n",
            "Role               HRJr. Backend DeveloperProduct TesterFrontend ...\n",
            "Salary                                                       7567000\n",
            "dtype: object\n",
            "Percentage:\n",
            " ID                      55.0\n",
            "Name                     NaN\n",
            "Role                     NaN\n",
            "Salary             7567000.0\n",
            "Work Experience         41.0\n",
            "dtype: float64\n"
          ]
        },
        {
          "name": "stderr",
          "output_type": "stream",
          "text": [
            "<ipython-input-10-f59f3b43b6be>:8: FutureWarning: The default value of numeric_only in DataFrame.mean is deprecated. In a future version, it will default to False. In addition, specifying 'numeric_only=None' is deprecated. Select only valid columns or specify the value of numeric_only to silence this warning.\n",
            "  avg = merged_df.mean()\n",
            "<ipython-input-10-f59f3b43b6be>:13: FutureWarning: The default value of numeric_only in DataFrame.mean is deprecated. In a future version, it will default to False. In addition, specifying 'numeric_only=None' is deprecated. Select only valid columns or specify the value of numeric_only to silence this warning.\n",
            "  percent = merged_df.mean() / merged_df.count() * 100\n"
          ]
        }
      ],
      "source": [
        "import pandas as pd\n",
        "df = pd.read_csv(\"/content/drive/MyDrive/empdetails.csv\")\n",
        "df1 = pd.read_csv(\"/content/drive/MyDrive/salary.csv\")\n",
        "df2 = pd.merge(df,df1,on = \"ID\")\n",
        "df2.to_csv(\"EmployeesDetails.csv\",index = False)\n",
        "merged_df =pd.read_csv('/content/EmployeesDetails.csv')\n",
        "print(merged_df)\n",
        "avg = merged_df.mean()\n",
        "max = merged_df.max()\n",
        "min = merged_df.min()\n",
        "count = merged_df.count()\n",
        "sum = merged_df.sum()\n",
        "percent = merged_df.mean() / merged_df.count() * 100\n",
        "#statistical analysis\n",
        "print(\"Average:\\n\", avg)\n",
        "print(\"Max:\\n\", max)\n",
        "print(\"Min:\\n\", min)\n",
        "print(\"Count:\\n\", count)\n",
        "print(\"Sum:\\n\", sum)\n",
        "print(\"Percentage:\\n\", percent)"
      ]
    },
    {
      "cell_type": "code",
      "execution_count": null,
      "metadata": {
        "colab": {
          "base_uri": "https://localhost:8080/",
          "height": 324
        },
        "id": "FZkj2NSXuigu",
        "outputId": "9efab4a7-2cae-4e76-a3c1-93fd325c9c91"
      },
      "outputs": [
        {
          "name": "stdout",
          "output_type": "stream",
          "text": [
            "\n",
            "File 1 contents:  [['ID', 'Name', 'Work Experience', 'Role'], ['1', 'Apoorva', '5', 'HR'], ['2', 'Siddharth', '3', 'Jr. Backend Developer'], ['3', 'Saksham', '4', 'Product Tester'], ['4', 'Rohan', '4', 'Frontend Developer'], ['5', 'Anushka', '3', 'Quality Incharge'], ['6', 'Kaveri', '5', 'Manager'], ['7', 'Shweta', '4', 'Risk Analyser'], ['8', 'Yash', '6', 'Full Stack Developer'], ['9', 'Priyansh', '3', 'Recruiter'], ['10', 'Anusha', '4', 'Data enginner'], ['11', 'Sumanyu', '3', 'Data Analyser'], ['12', 'Kalpita', '6', 'Administrator']]\n",
            "\n",
            "File 2 contents:  [['ID', 'Salary'], ['1', '1025000'], ['2', '780000'], ['3', '890000'], ['4', '700000'], ['5', '650000'], ['6', '850000'], ['7', '710000'], ['8', '650000'], ['9', '412000'], ['10', '900000']]\n"
          ]
        },
        {
          "ename": "IndexError",
          "evalue": "ignored",
          "output_type": "error",
          "traceback": [
            "\u001b[0;31m---------------------------------------------------------------------------\u001b[0m",
            "\u001b[0;31mIndexError\u001b[0m                                Traceback (most recent call last)",
            "\u001b[0;32m<ipython-input-6-8c8f9a0cbc38>\u001b[0m in \u001b[0;36m<cell line: 13>\u001b[0;34m()\u001b[0m\n\u001b[1;32m     12\u001b[0m \u001b[0md3\u001b[0m\u001b[0;34m=\u001b[0m\u001b[0;34m[\u001b[0m\u001b[0;34m]\u001b[0m\u001b[0;34m\u001b[0m\u001b[0;34m\u001b[0m\u001b[0m\n\u001b[1;32m     13\u001b[0m \u001b[0;32mfor\u001b[0m \u001b[0mi\u001b[0m \u001b[0;32min\u001b[0m \u001b[0mrange\u001b[0m \u001b[0;34m(\u001b[0m\u001b[0mlen\u001b[0m\u001b[0;34m(\u001b[0m\u001b[0md1\u001b[0m\u001b[0;34m)\u001b[0m\u001b[0;34m)\u001b[0m\u001b[0;34m:\u001b[0m\u001b[0;34m\u001b[0m\u001b[0;34m\u001b[0m\u001b[0m\n\u001b[0;32m---> 14\u001b[0;31m   \u001b[0md3\u001b[0m\u001b[0;34m.\u001b[0m\u001b[0mappend\u001b[0m\u001b[0;34m(\u001b[0m\u001b[0md1\u001b[0m\u001b[0;34m[\u001b[0m\u001b[0mi\u001b[0m\u001b[0;34m]\u001b[0m\u001b[0;34m+\u001b[0m\u001b[0md2\u001b[0m\u001b[0;34m[\u001b[0m\u001b[0mi\u001b[0m\u001b[0;34m]\u001b[0m\u001b[0;34m)\u001b[0m\u001b[0;34m\u001b[0m\u001b[0;34m\u001b[0m\u001b[0m\n\u001b[0m\u001b[1;32m     15\u001b[0m \u001b[0;34m\u001b[0m\u001b[0m\n\u001b[1;32m     16\u001b[0m \u001b[0mprint\u001b[0m\u001b[0;34m(\u001b[0m\u001b[0md3\u001b[0m\u001b[0;34m)\u001b[0m\u001b[0;34m\u001b[0m\u001b[0;34m\u001b[0m\u001b[0m\n",
            "\u001b[0;31mIndexError\u001b[0m: list index out of range"
          ]
        }
      ],
      "source": [
        "import csv\n",
        "\n",
        "f1=open(\"/content/drive/MyDrive/empdetails.csv\",\"r\")\n",
        "f2=open(\"/content/drive/MyDrive/salary.csv\",\"r\")\n",
        "f3=open(\"stud_info\",\"w\")\n",
        "\n",
        "d1=list(csv.reader(f1,delimiter=\",\"))\n",
        "d2=list(csv.reader(f2,delimiter=\",\"))\n",
        "\n",
        "print(\"\\nFile 1 contents: \",d1)\n",
        "print(\"\\nFile 2 contents: \",d2)\n",
        "d3=[]\n",
        "for i in range (len(d1)):\n",
        "  d3.append(d1[i]+d2[i])\n",
        "\n",
        "print(d3)\n",
        "cw=csv.writer(f3)\n",
        "cw.writerows(d3)\n",
        "\n",
        "print(max(d3))\n",
        "\n",
        "f1.close()\n",
        "f2.close()\n",
        "f3.close()\n",
        "cgpa=[]\n",
        "with open('/content/stud_info', mode ='r')as file:\n",
        "\n",
        "  csvFile = csv.reader(file)\n",
        "\n",
        "  for lines in csvFile:\n",
        "    cgpa.append(float(lines[4]))\n",
        "\n",
        "\n",
        "print(\"\\nMaximum cgpa:\", max(cgpa))\n",
        "print(\"Minimum cgpa:\", min(cgpa))\n",
        "print(\"Sum of cgpa:\",sum(cgpa))\n",
        "print(\"Average cgpa:\",sum(cgpa)/len(cgpa))"
      ]
    },
    {
      "cell_type": "code",
      "execution_count": null,
      "metadata": {
        "colab": {
          "base_uri": "https://localhost:8080/"
        },
        "id": "fsIVC2YcPZQ8",
        "outputId": "b0c1f39c-98f1-4865-e4c7-c6f21effa866"
      },
      "outputs": [
        {
          "name": "stdout",
          "output_type": "stream",
          "text": [
            "[9]\n"
          ]
        }
      ],
      "source": [
        "a = [1,2,3,4,5,6,7,8,9]\n",
        "print(a[-1:])"
      ]
    },
    {
      "cell_type": "code",
      "execution_count": null,
      "metadata": {
        "id": "PdlWwdLTPhsE"
      },
      "outputs": [],
      "source": [
        "while 1>0:\n",
        "  print('hello')"
      ]
    },
    {
      "cell_type": "code",
      "execution_count": null,
      "metadata": {
        "colab": {
          "base_uri": "https://localhost:8080/"
        },
        "id": "pfs6ZGd7PlMz",
        "outputId": "3777836d-3974-4ba2-c023-73e861daf1a8"
      },
      "outputs": [
        {
          "name": "stdout",
          "output_type": "stream",
          "text": [
            "<class 'float'>\n",
            "<class 'int'>\n"
          ]
        }
      ],
      "source": [
        "print(type(5/2))\n",
        "print(type(5//2))"
      ]
    },
    {
      "cell_type": "code",
      "execution_count": null,
      "metadata": {
        "colab": {
          "base_uri": "https://localhost:8080/"
        },
        "id": "i4gSdwqdQ0p0",
        "outputId": "da5fcf9a-6fb5-4b38-96b6-f8355bbd7a2a"
      },
      "outputs": [
        {
          "name": "stdout",
          "output_type": "stream",
          "text": [
            "0\n",
            "2\n",
            "4\n",
            "6\n",
            "8\n",
            "10\n",
            "12\n",
            "14\n",
            "16\n",
            "18\n",
            "20\n",
            "22\n",
            "24\n",
            "26\n",
            "28\n"
          ]
        }
      ],
      "source": [
        "for x in range(0,30,2):\n",
        "  print(x)"
      ]
    },
    {
      "cell_type": "code",
      "execution_count": null,
      "metadata": {
        "colab": {
          "base_uri": "https://localhost:8080/"
        },
        "id": "Pu_ivSZYR6Yj",
        "outputId": "46c9a892-774b-439d-e179-f1f41becde42"
      },
      "outputs": [
        {
          "name": "stdout",
          "output_type": "stream",
          "text": [
            "{False, 1}\n"
          ]
        }
      ],
      "source": [
        "set1={1,True,False}\n",
        "print(set1)"
      ]
    },
    {
      "cell_type": "code",
      "execution_count": null,
      "metadata": {
        "colab": {
          "base_uri": "https://localhost:8080/"
        },
        "id": "WodcUYt7X8Dl",
        "outputId": "7f751cee-dda9-4465-8b19-c6ec34c28fc8"
      },
      "outputs": [
        {
          "name": "stdout",
          "output_type": "stream",
          "text": [
            "[['Rashid Khan' 265 25]\n",
            " ['Hardik Pandya' 234 5]\n",
            " ['Wanindu Hasaranga' 134 7]\n",
            " ['Cameron Green' 487 8]\n",
            " ['Sam Curran' 212 10]]\n",
            "[['Erling Haaland' 35 7]\n",
            " ['Kevin De Bruyne' 7 16]\n",
            " ['Harry Kane' 28 3]\n",
            " ['Martin Odegaard' 15 7]]\n"
          ]
        }
      ],
      "source": [
        "import pandas as pd\n",
        "import numpy as np\n",
        "\n",
        "x=pd.read_csv(\"/content/drive/MyDrive/ipl23.csv\")\n",
        "y=pd.read_csv(\"/content/drive/MyDrive/pl22-23.csv\")\n",
        "\n",
        "\n",
        "array=x.to_numpy()\n",
        "array1=y.to_numpy()\n",
        "\n",
        "print(array)\n",
        "print(array1)"
      ]
    },
    {
      "cell_type": "code",
      "execution_count": null,
      "metadata": {
        "colab": {
          "base_uri": "https://localhost:8080/"
        },
        "id": "uqHzYogYkKhQ",
        "outputId": "9c42a527-b869-4bb0-9fbb-1eaefa6332ed"
      },
      "outputs": [
        {
          "name": "stdout",
          "output_type": "stream",
          "text": [
            "0\n"
          ]
        }
      ],
      "source": [
        "print(1//2*3)"
      ]
    },
    {
      "cell_type": "code",
      "source": [
        "# opening the file\n",
        "f = open(\"stud2.csv\",\"r\")\n",
        "# putting the data in datasets\n",
        "gender = []\n",
        "race = []\n",
        "edu = []\n",
        "prep = []\n",
        "math = []\n",
        "reading = []\n",
        "writing = []\n",
        "# we use range(26) because there are 26 entries\n",
        "for i in range(27):\n",
        "data = f.readline()\n",
        "# this condition is used to remove the columns headers\n",
        "if i==0:\n",
        "  continue\n",
        "  temp = data.split(',')\n",
        "  gender.append(temp[0])\n",
        "  race.append(temp[1])\n",
        "  edu.append(temp[2])\n",
        "  prep.append(temp[3])\n",
        "  math.append(int(temp[4]))\n",
        "  reading.append(int(temp[5]))\n",
        "  writing.append(int(temp[6]))"
      ],
      "metadata": {
        "id": "nOld6AWuhZF1"
      },
      "execution_count": null,
      "outputs": []
    },
    {
      "cell_type": "code",
      "source": [
        "# query 1> no.of female candidates having less than 90 in writing\n",
        "result1 = 0\n",
        "for i,j in zip(gender,writing):\n",
        "  if i==\"female\" and j<90:\n",
        "    result1 += 1\n",
        "  else:\n",
        "    continue\n",
        "print(\"1.Number of Female candidates having writing score less than 90: \",result1)\n",
        "# query 3> no. of candidates in group C\n",
        "grpc = 0\n",
        "for i in race:\n",
        "if i == 'group C':\n",
        "grpc += 1\n",
        "else:\n",
        "continue\n",
        "print(\"3.Number of Student in Group C is:\",grpc)"
      ],
      "metadata": {
        "id": "wCC2mVRTi0Jn"
      },
      "execution_count": null,
      "outputs": []
    },
    {
      "cell_type": "code",
      "source": [
        "import csv\n",
        "\n",
        "def count_employees(year):\n",
        "    with open('company1.csv', 'r') as file:\n",
        "        reader = csv.reader(file)\n",
        "\n",
        "        count = 0\n",
        "        for row in reader:\n",
        "            if row[0] == str(year):\n",
        "                count += 1\n",
        "        return count\n",
        "\n",
        "def count_employees_with_experience(years):\n",
        "    with open('company1.csv', 'r') as file:\n",
        "        reader = csv.reader(file)\n",
        "\n",
        "        count = 0\n",
        "        for row in reader:\n",
        "            if row[1] == 'above10':\n",
        "                count += 1\n",
        "        return count\n",
        "\n",
        "# Count of employees in the year 2021\n",
        "employee_count_2021 = count_employees(2021)\n",
        "print(\"Number of employees in 2021:\", employee_count_2021)\n",
        "\n",
        "# Count of employees with more than 10 years of experience\n",
        "experience_count = count_employees_with_experience(10)\n",
        "print(\"Number of employees with more than 10 years of experience:\", experience_count)\n",
        "\n",
        "\n",
        "\n",
        "\n",
        "\n",
        "\n",
        "\n",
        "\n",
        "\n",
        "def medium_scale_company_count():\n",
        "    with open('company1.csv', 'r') as file:\n",
        "        reader = csv.reader(file)\n",
        "\n",
        "        count = 0\n",
        "        for row in reader:\n",
        "            company_size = row[8]\n",
        "            if company_size.lower() == 'm':\n",
        "                count += 1\n",
        "        return count\n",
        "\n",
        "\n",
        "# Number of employees working in a medium-scale company\n",
        "medium_scale_company_count = medium_scale_company_count()\n",
        "print(\"Number of employees working in a medium-scale company:\", medium_scale_company_count)\n",
        "\n",
        "\n",
        "\n",
        "\n",
        "#average salary in rupees\n",
        "def calculate_average_salary_in_rupees(data):\n",
        "    total_salary = 0\n",
        "    count = 0\n",
        "\n",
        "    for entry in data:\n",
        "        salary_rs = int(entry['salary Rs'])\n",
        "        total_salary += salary_rs\n",
        "        count += 1\n",
        "\n",
        "    average_salary_rs = total_salary / count\n",
        "    return average_salary_rs\n",
        "\n",
        "\n",
        "\n",
        "average_salary_rs = calculate_average_salary_in_rupees(data)\n",
        "print(\"Average Salary in Rupees:\" ,average_salary_rs)\n",
        "\n",
        "\n",
        "\n",
        "\n",
        "\n",
        "def calculate_yearly_employee_count(filename):\n",
        "    year_count = {}\n",
        "    with open('company1.csv', 'r') as file:\n",
        "        reader = csv.DictReader(file)\n",
        "        for row in reader:\n",
        "            work_year = int(row['work_year'])\n",
        "            if work_year in year_count:\n",
        "                year_count[work_year] += 1\n",
        "            else:\n",
        "                year_count[work_year] = 1\n",
        "    return year_count\n",
        "\n",
        "\n",
        "result = calculate_yearly_employee_count(filename)\n",
        "print(result)\n",
        "\n",
        "\n",
        "\n",
        "\n",
        "\n",
        "\n",
        "\n",
        "\n"
      ],
      "metadata": {
        "id": "76nyVD_pleWF"
      },
      "execution_count": null,
      "outputs": []
    },
    {
      "cell_type": "code",
      "source": [
        "#accessing list elements\n",
        "a = [\"apple\", \"banana\", \"cherry\", \"orange\", \"kiwi\", \"melon\", \"mango\"]\n",
        "print(a[-4:-1])\n",
        "thislist = [\"apple\", \"banana\", \"cherry\", \"orange\", \"kiwi\", \"melon\", \"mango\"]\n",
        "print(thislist[2:5])"
      ],
      "metadata": {
        "colab": {
          "base_uri": "https://localhost:8080/"
        },
        "id": "5LTr5sD-MbPO",
        "outputId": "43e1a91d-024d-44e7-d88d-fcb3c802e694"
      },
      "execution_count": null,
      "outputs": [
        {
          "output_type": "stream",
          "name": "stdout",
          "text": [
            "['orange', 'kiwi', 'melon']\n",
            "['cherry', 'orange', 'kiwi']\n"
          ]
        }
      ]
    },
    {
      "cell_type": "code",
      "source": [
        "#Changing item Values\n",
        "thislist = [\"apple\", \"banana\", \"cherry\", \"orange\", \"kiwi\", \"mango\"]\n",
        "thislist[1:3] = [\"blackcurrant\", \"watermelon\"]\n",
        "print(thislist)"
      ],
      "metadata": {
        "colab": {
          "base_uri": "https://localhost:8080/"
        },
        "id": "GLBlwK5ZPly2",
        "outputId": "57431a9e-4178-4462-a95e-d4cfc0eb3f59"
      },
      "execution_count": null,
      "outputs": [
        {
          "output_type": "stream",
          "name": "stdout",
          "text": [
            "['apple', 'blackcurrant', 'watermelon', 'orange', 'kiwi', 'mango']\n"
          ]
        }
      ]
    },
    {
      "cell_type": "code",
      "source": [
        "#Adding list items\n",
        "thislist = [\"apple\", \"banana\", \"cherry\"]\n",
        "thislist.append(\"orange\")\n",
        "print(thislist)\n",
        "thislist.insert(1, \"orange\")\n",
        "print(thislist)\n",
        "tropical = [\"mango\", \"pineapple\", \"papaya\"]\n",
        "thislist.extend(tropical)\n",
        "print(thislist)\n",
        "thistuple = (\"kiwi\", \"orange\")\n",
        "thislist.extend(thistuple)\n",
        "print(thislist)"
      ],
      "metadata": {
        "colab": {
          "base_uri": "https://localhost:8080/"
        },
        "id": "TcBb02xXRHnW",
        "outputId": "9a3c4a02-a3b7-40d9-9384-0f5673718a32"
      },
      "execution_count": null,
      "outputs": [
        {
          "output_type": "stream",
          "name": "stdout",
          "text": [
            "['apple', 'banana', 'cherry', 'orange']\n",
            "['apple', 'orange', 'banana', 'cherry', 'orange']\n",
            "['apple', 'orange', 'banana', 'cherry', 'orange', 'mango', 'pineapple', 'papaya']\n",
            "['apple', 'orange', 'banana', 'cherry', 'orange', 'mango', 'pineapple', 'papaya', 'kiwi', 'orange']\n"
          ]
        }
      ]
    },
    {
      "cell_type": "code",
      "source": [
        "#removing list items\n",
        "thislist = [\"apple\", \"banana\", \"cherry\"]\n",
        "thislist.remove(\"banana\")\n",
        "print(thislist)\n",
        "thislist.pop(1)\n",
        "print(thislist)\n",
        "thislist.pop()\n",
        "print(thislist)\n"
      ],
      "metadata": {
        "colab": {
          "base_uri": "https://localhost:8080/"
        },
        "id": "kbS-Ty1aR6Ul",
        "outputId": "38d36d7d-b161-48f2-c29b-237730767d35"
      },
      "execution_count": null,
      "outputs": [
        {
          "output_type": "stream",
          "name": "stdout",
          "text": [
            "['apple', 'cherry']\n",
            "['apple']\n",
            "[]\n"
          ]
        }
      ]
    },
    {
      "cell_type": "code",
      "source": [
        "x = lambda a, b : (a ** b)/125\n",
        "print(x(5, 6))"
      ],
      "metadata": {
        "colab": {
          "base_uri": "https://localhost:8080/"
        },
        "id": "Re4dDy1qTYpH",
        "outputId": "949e7a70-b69d-4fc4-f8ef-bf04039647b7"
      },
      "execution_count": null,
      "outputs": [
        {
          "output_type": "stream",
          "name": "stdout",
          "text": [
            "125.0\n"
          ]
        }
      ]
    },
    {
      "cell_type": "code",
      "source": [
        "x = lambda a, b, c : (a + b)*c\n",
        "print(x(5, 6, 2))"
      ],
      "metadata": {
        "colab": {
          "base_uri": "https://localhost:8080/"
        },
        "id": "fgE_7sGtTaYA",
        "outputId": "3cdd259a-81e5-49ca-c87c-568b9ad7206c"
      },
      "execution_count": null,
      "outputs": [
        {
          "output_type": "stream",
          "name": "stdout",
          "text": [
            "22\n"
          ]
        }
      ]
    },
    {
      "cell_type": "code",
      "source": [
        "x=lambda r: 4*3.14*r*r\n",
        "print(x(7))"
      ],
      "metadata": {
        "colab": {
          "base_uri": "https://localhost:8080/"
        },
        "id": "VB0IpY4JTlnA",
        "outputId": "be199ad5-d536-4d77-992a-21e48f37bfe1"
      },
      "execution_count": null,
      "outputs": [
        {
          "output_type": "stream",
          "name": "stdout",
          "text": [
            "615.44\n"
          ]
        }
      ]
    },
    {
      "cell_type": "code",
      "source": [
        "import pandas as pd\n",
        "\n",
        "\n",
        "folklore = {'rank': [1,2,3,4,5],\n",
        "        'song': [\"exile\",\"this is me trying\",\"my tears ricochet\",\"cardigan\",\"illicit affairs\"]}\n",
        "new = pd.DataFrame.from_dict(folklore)\n",
        "\n",
        "new"
      ],
      "metadata": {
        "colab": {
          "base_uri": "https://localhost:8080/",
          "height": 206
        },
        "id": "jUvQ4KAPWpo3",
        "outputId": "8fc30a5a-3a4b-46da-d3d5-d913f8f3e00d"
      },
      "execution_count": null,
      "outputs": [
        {
          "output_type": "execute_result",
          "data": {
            "text/plain": [
              "   rank               song\n",
              "0     1              exile\n",
              "1     2  this is me trying\n",
              "2     3  my tears ricochet\n",
              "3     4           cardigan\n",
              "4     5    illicit affairs"
            ],
            "text/html": [
              "\n",
              "  <div id=\"df-5d8c47a6-c6d1-4721-8175-874fa47709eb\">\n",
              "    <div class=\"colab-df-container\">\n",
              "      <div>\n",
              "<style scoped>\n",
              "    .dataframe tbody tr th:only-of-type {\n",
              "        vertical-align: middle;\n",
              "    }\n",
              "\n",
              "    .dataframe tbody tr th {\n",
              "        vertical-align: top;\n",
              "    }\n",
              "\n",
              "    .dataframe thead th {\n",
              "        text-align: right;\n",
              "    }\n",
              "</style>\n",
              "<table border=\"1\" class=\"dataframe\">\n",
              "  <thead>\n",
              "    <tr style=\"text-align: right;\">\n",
              "      <th></th>\n",
              "      <th>rank</th>\n",
              "      <th>song</th>\n",
              "    </tr>\n",
              "  </thead>\n",
              "  <tbody>\n",
              "    <tr>\n",
              "      <th>0</th>\n",
              "      <td>1</td>\n",
              "      <td>exile</td>\n",
              "    </tr>\n",
              "    <tr>\n",
              "      <th>1</th>\n",
              "      <td>2</td>\n",
              "      <td>this is me trying</td>\n",
              "    </tr>\n",
              "    <tr>\n",
              "      <th>2</th>\n",
              "      <td>3</td>\n",
              "      <td>my tears ricochet</td>\n",
              "    </tr>\n",
              "    <tr>\n",
              "      <th>3</th>\n",
              "      <td>4</td>\n",
              "      <td>cardigan</td>\n",
              "    </tr>\n",
              "    <tr>\n",
              "      <th>4</th>\n",
              "      <td>5</td>\n",
              "      <td>illicit affairs</td>\n",
              "    </tr>\n",
              "  </tbody>\n",
              "</table>\n",
              "</div>\n",
              "      <button class=\"colab-df-convert\" onclick=\"convertToInteractive('df-5d8c47a6-c6d1-4721-8175-874fa47709eb')\"\n",
              "              title=\"Convert this dataframe to an interactive table.\"\n",
              "              style=\"display:none;\">\n",
              "        \n",
              "  <svg xmlns=\"http://www.w3.org/2000/svg\" height=\"24px\"viewBox=\"0 0 24 24\"\n",
              "       width=\"24px\">\n",
              "    <path d=\"M0 0h24v24H0V0z\" fill=\"none\"/>\n",
              "    <path d=\"M18.56 5.44l.94 2.06.94-2.06 2.06-.94-2.06-.94-.94-2.06-.94 2.06-2.06.94zm-11 1L8.5 8.5l.94-2.06 2.06-.94-2.06-.94L8.5 2.5l-.94 2.06-2.06.94zm10 10l.94 2.06.94-2.06 2.06-.94-2.06-.94-.94-2.06-.94 2.06-2.06.94z\"/><path d=\"M17.41 7.96l-1.37-1.37c-.4-.4-.92-.59-1.43-.59-.52 0-1.04.2-1.43.59L10.3 9.45l-7.72 7.72c-.78.78-.78 2.05 0 2.83L4 21.41c.39.39.9.59 1.41.59.51 0 1.02-.2 1.41-.59l7.78-7.78 2.81-2.81c.8-.78.8-2.07 0-2.86zM5.41 20L4 18.59l7.72-7.72 1.47 1.35L5.41 20z\"/>\n",
              "  </svg>\n",
              "      </button>\n",
              "      \n",
              "  <style>\n",
              "    .colab-df-container {\n",
              "      display:flex;\n",
              "      flex-wrap:wrap;\n",
              "      gap: 12px;\n",
              "    }\n",
              "\n",
              "    .colab-df-convert {\n",
              "      background-color: #E8F0FE;\n",
              "      border: none;\n",
              "      border-radius: 50%;\n",
              "      cursor: pointer;\n",
              "      display: none;\n",
              "      fill: #1967D2;\n",
              "      height: 32px;\n",
              "      padding: 0 0 0 0;\n",
              "      width: 32px;\n",
              "    }\n",
              "\n",
              "    .colab-df-convert:hover {\n",
              "      background-color: #E2EBFA;\n",
              "      box-shadow: 0px 1px 2px rgba(60, 64, 67, 0.3), 0px 1px 3px 1px rgba(60, 64, 67, 0.15);\n",
              "      fill: #174EA6;\n",
              "    }\n",
              "\n",
              "    [theme=dark] .colab-df-convert {\n",
              "      background-color: #3B4455;\n",
              "      fill: #D2E3FC;\n",
              "    }\n",
              "\n",
              "    [theme=dark] .colab-df-convert:hover {\n",
              "      background-color: #434B5C;\n",
              "      box-shadow: 0px 1px 3px 1px rgba(0, 0, 0, 0.15);\n",
              "      filter: drop-shadow(0px 1px 2px rgba(0, 0, 0, 0.3));\n",
              "      fill: #FFFFFF;\n",
              "    }\n",
              "  </style>\n",
              "\n",
              "      <script>\n",
              "        const buttonEl =\n",
              "          document.querySelector('#df-5d8c47a6-c6d1-4721-8175-874fa47709eb button.colab-df-convert');\n",
              "        buttonEl.style.display =\n",
              "          google.colab.kernel.accessAllowed ? 'block' : 'none';\n",
              "\n",
              "        async function convertToInteractive(key) {\n",
              "          const element = document.querySelector('#df-5d8c47a6-c6d1-4721-8175-874fa47709eb');\n",
              "          const dataTable =\n",
              "            await google.colab.kernel.invokeFunction('convertToInteractive',\n",
              "                                                     [key], {});\n",
              "          if (!dataTable) return;\n",
              "\n",
              "          const docLinkHtml = 'Like what you see? Visit the ' +\n",
              "            '<a target=\"_blank\" href=https://colab.research.google.com/notebooks/data_table.ipynb>data table notebook</a>'\n",
              "            + ' to learn more about interactive tables.';\n",
              "          element.innerHTML = '';\n",
              "          dataTable['output_type'] = 'display_data';\n",
              "          await google.colab.output.renderOutput(dataTable, element);\n",
              "          const docLink = document.createElement('div');\n",
              "          docLink.innerHTML = docLinkHtml;\n",
              "          element.appendChild(docLink);\n",
              "        }\n",
              "      </script>\n",
              "    </div>\n",
              "  </div>\n",
              "  "
            ]
          },
          "metadata": {},
          "execution_count": 18
        }
      ]
    },
    {
      "cell_type": "code",
      "source": [
        "import pandas as pd\n",
        "\n",
        "x=pd.read_excel(\"/content/drive/MyDrive/10A.xlsx\")\n",
        "print(x)\n",
        "x[\"Marks\"].var()"
      ],
      "metadata": {
        "colab": {
          "base_uri": "https://localhost:8080/"
        },
        "id": "kSoqI3bbanZ5",
        "outputId": "a656b5be-1e99-4f9c-9bfb-4ccc4e527fdd"
      },
      "execution_count": null,
      "outputs": [
        {
          "output_type": "stream",
          "name": "stdout",
          "text": [
            "      Name  Marks\n",
            "0   Apoorv   96.4\n",
            "1    Rohan   95.8\n",
            "2   Siddhu   93.2\n",
            "3   Ashish   93.6\n",
            "4    Kruti   94.8\n",
            "5  Kalpita   94.4\n",
            "6     Yash   85.0\n",
            "7   Kaveri   75.0\n"
          ]
        },
        {
          "output_type": "execute_result",
          "data": {
            "text/plain": [
              "54.54214285714287"
            ]
          },
          "metadata": {},
          "execution_count": 1
        }
      ]
    },
    {
      "cell_type": "code",
      "source": [
        "\n",
        "f = open(\"/content/drive/MyDrive/empswim.csv\",\"r\")\n",
        "\n",
        "empid = []\n",
        "empname = []\n",
        "gender = []\n",
        "age = []\n",
        "salary = []\n",
        "swimming = []\n",
        "\n",
        "\n",
        "for i in range(26):\n",
        "  data = f.readline()\n",
        "# this condition is used to remove the columns headers\n",
        "  if i==0:\n",
        "    continue\n",
        "    temp = data.split(',')\n",
        "    empid.append(temp[0])\n",
        "    empname.append(temp[1])\n",
        "    gender.append(temp[2])\n",
        "    age.append(int(temp[3]))\n",
        "    salary.append(int(temp[4]))\n",
        "    swimming.append(temp[5])\n",
        "\n",
        "print(data)\n",
        "\n"
      ],
      "metadata": {
        "colab": {
          "base_uri": "https://localhost:8080/"
        },
        "id": "MguFSLNtljS6",
        "outputId": "223b076b-29e4-4102-9845-5f225c702b48"
      },
      "execution_count": null,
      "outputs": [
        {
          "output_type": "stream",
          "name": "stdout",
          "text": [
            "A025,Shawn Mendes,M,27,28000000,Yes\n",
            "\n"
          ]
        }
      ]
    },
    {
      "cell_type": "code",
      "source": [
        "csv_filename = 'my_file.csv'\n",
        "with open(csv_filename) as f:\n",
        "    lines = f.readlines()\n",
        "    lst = [tuple(line.strip().split(',')) for line in lines]\n",
        "    print(lst)"
      ],
      "metadata": {
        "id": "r2Mcpp3Au7tk"
      },
      "execution_count": null,
      "outputs": []
    },
    {
      "cell_type": "code",
      "source": [
        "import pandas as pd\n",
        "\n",
        "x=pd.read_csv(\"/content/drive/MyDrive/empswim.csv\")\n",
        "print(x)"
      ],
      "metadata": {
        "colab": {
          "base_uri": "https://localhost:8080/"
        },
        "id": "HfCOvgJWnUpz",
        "outputId": "5b70c966-18f0-4031-a62d-4ffbfbbac447"
      },
      "execution_count": null,
      "outputs": [
        {
          "output_type": "stream",
          "name": "stdout",
          "text": [
            "   EmpID                Name Gender  Age    Salary    S\n",
            "0   A001          Phil Foden      M   21   1000000  Yes\n",
            "1   A002      Erling Haaland      M   23     20000   No\n",
            "2   A003     Kevin De Bruyne      M   29    340000  Yes\n",
            "3   A004       Jack Grealish      M   25    850000  Yes\n",
            "4   A005        Riyad Mahrez      M   27    900000   No\n",
            "5   A006      Ilkay Gundogan      M   29    650000  Yes\n",
            "6   A007               Rodri      M   31     35000   No\n",
            "7   A008          Ruben Dias      M   25    150000   No\n",
            "8   A009         Kyle Walker      M   32    750000  Yes\n",
            "9   A010          Nathan Ake      M   25     80000  Yes\n",
            "10  A011      Julian Alvarez      M   22    400000   No\n",
            "11  A012         Lucy Bronze      F   26    600000   No\n",
            "12  A013  Robert Lewandowski      M   33   9500000   No\n",
            "13  A014            Raphinha      M   26    500000  Yes\n",
            "14  A015       Ferran Torres      M   25     70000  Yes\n",
            "15  A016                Gavi      M   19   4500000  Yes\n",
            "16  A017               Pedri      M   20   5500000   No\n",
            "17  A018        Jules Kounde      M   22   2500000  Yes\n",
            "18  A019       Ronald Araujo      M   23    320000  Yes\n",
            "19  A020     Sergio Busquets      M   35    480000  Yes\n",
            "20  A021      Sergio Roberto      M   32   5600000   No\n",
            "21  A022     Marcus Rashford      M   27   4200000  Yes\n",
            "22  A023     Bruno Fernandes      M   26  87000000  Yes\n",
            "23  A024          Ed Sheeran      M   35  63000000   No\n",
            "24  A025        Shawn Mendes      M   27  28000000  Yes\n"
          ]
        }
      ]
    },
    {
      "cell_type": "code",
      "source": [
        "import pandas as pd\n",
        "x.sort_values(by=[\"Salary\"])"
      ],
      "metadata": {
        "colab": {
          "base_uri": "https://localhost:8080/",
          "height": 833
        },
        "id": "MhMCW5ZxuVw7",
        "outputId": "620a0662-235e-41e6-9fb9-4a3c7a65e95c"
      },
      "execution_count": null,
      "outputs": [
        {
          "output_type": "execute_result",
          "data": {
            "text/plain": [
              "   EmpID                Name Gender  Age    Salary    S\n",
              "1   A002      Erling Haaland      M   23     20000   No\n",
              "6   A007               Rodri      M   31     35000   No\n",
              "14  A015       Ferran Torres      M   25     70000  Yes\n",
              "9   A010          Nathan Ake      M   25     80000  Yes\n",
              "7   A008          Ruben Dias      M   25    150000   No\n",
              "18  A019       Ronald Araujo      M   23    320000  Yes\n",
              "2   A003     Kevin De Bruyne      M   29    340000  Yes\n",
              "10  A011      Julian Alvarez      M   22    400000   No\n",
              "19  A020     Sergio Busquets      M   35    480000  Yes\n",
              "13  A014            Raphinha      M   26    500000  Yes\n",
              "11  A012         Lucy Bronze      F   26    600000   No\n",
              "5   A006      Ilkay Gundogan      M   29    650000  Yes\n",
              "8   A009         Kyle Walker      M   32    750000  Yes\n",
              "3   A004       Jack Grealish      M   25    850000  Yes\n",
              "4   A005        Riyad Mahrez      M   27    900000   No\n",
              "0   A001          Phil Foden      M   21   1000000  Yes\n",
              "17  A018        Jules Kounde      M   22   2500000  Yes\n",
              "21  A022     Marcus Rashford      M   27   4200000  Yes\n",
              "15  A016                Gavi      M   19   4500000  Yes\n",
              "16  A017               Pedri      M   20   5500000   No\n",
              "20  A021      Sergio Roberto      M   32   5600000   No\n",
              "12  A013  Robert Lewandowski      M   33   9500000   No\n",
              "24  A025        Shawn Mendes      M   27  28000000  Yes\n",
              "23  A024          Ed Sheeran      M   35  63000000   No\n",
              "22  A023     Bruno Fernandes      M   26  87000000  Yes"
            ],
            "text/html": [
              "\n",
              "  <div id=\"df-d31170db-0d79-4195-8668-cfeeb2c0ad06\">\n",
              "    <div class=\"colab-df-container\">\n",
              "      <div>\n",
              "<style scoped>\n",
              "    .dataframe tbody tr th:only-of-type {\n",
              "        vertical-align: middle;\n",
              "    }\n",
              "\n",
              "    .dataframe tbody tr th {\n",
              "        vertical-align: top;\n",
              "    }\n",
              "\n",
              "    .dataframe thead th {\n",
              "        text-align: right;\n",
              "    }\n",
              "</style>\n",
              "<table border=\"1\" class=\"dataframe\">\n",
              "  <thead>\n",
              "    <tr style=\"text-align: right;\">\n",
              "      <th></th>\n",
              "      <th>EmpID</th>\n",
              "      <th>Name</th>\n",
              "      <th>Gender</th>\n",
              "      <th>Age</th>\n",
              "      <th>Salary</th>\n",
              "      <th>S</th>\n",
              "    </tr>\n",
              "  </thead>\n",
              "  <tbody>\n",
              "    <tr>\n",
              "      <th>1</th>\n",
              "      <td>A002</td>\n",
              "      <td>Erling Haaland</td>\n",
              "      <td>M</td>\n",
              "      <td>23</td>\n",
              "      <td>20000</td>\n",
              "      <td>No</td>\n",
              "    </tr>\n",
              "    <tr>\n",
              "      <th>6</th>\n",
              "      <td>A007</td>\n",
              "      <td>Rodri</td>\n",
              "      <td>M</td>\n",
              "      <td>31</td>\n",
              "      <td>35000</td>\n",
              "      <td>No</td>\n",
              "    </tr>\n",
              "    <tr>\n",
              "      <th>14</th>\n",
              "      <td>A015</td>\n",
              "      <td>Ferran Torres</td>\n",
              "      <td>M</td>\n",
              "      <td>25</td>\n",
              "      <td>70000</td>\n",
              "      <td>Yes</td>\n",
              "    </tr>\n",
              "    <tr>\n",
              "      <th>9</th>\n",
              "      <td>A010</td>\n",
              "      <td>Nathan Ake</td>\n",
              "      <td>M</td>\n",
              "      <td>25</td>\n",
              "      <td>80000</td>\n",
              "      <td>Yes</td>\n",
              "    </tr>\n",
              "    <tr>\n",
              "      <th>7</th>\n",
              "      <td>A008</td>\n",
              "      <td>Ruben Dias</td>\n",
              "      <td>M</td>\n",
              "      <td>25</td>\n",
              "      <td>150000</td>\n",
              "      <td>No</td>\n",
              "    </tr>\n",
              "    <tr>\n",
              "      <th>18</th>\n",
              "      <td>A019</td>\n",
              "      <td>Ronald Araujo</td>\n",
              "      <td>M</td>\n",
              "      <td>23</td>\n",
              "      <td>320000</td>\n",
              "      <td>Yes</td>\n",
              "    </tr>\n",
              "    <tr>\n",
              "      <th>2</th>\n",
              "      <td>A003</td>\n",
              "      <td>Kevin De Bruyne</td>\n",
              "      <td>M</td>\n",
              "      <td>29</td>\n",
              "      <td>340000</td>\n",
              "      <td>Yes</td>\n",
              "    </tr>\n",
              "    <tr>\n",
              "      <th>10</th>\n",
              "      <td>A011</td>\n",
              "      <td>Julian Alvarez</td>\n",
              "      <td>M</td>\n",
              "      <td>22</td>\n",
              "      <td>400000</td>\n",
              "      <td>No</td>\n",
              "    </tr>\n",
              "    <tr>\n",
              "      <th>19</th>\n",
              "      <td>A020</td>\n",
              "      <td>Sergio Busquets</td>\n",
              "      <td>M</td>\n",
              "      <td>35</td>\n",
              "      <td>480000</td>\n",
              "      <td>Yes</td>\n",
              "    </tr>\n",
              "    <tr>\n",
              "      <th>13</th>\n",
              "      <td>A014</td>\n",
              "      <td>Raphinha</td>\n",
              "      <td>M</td>\n",
              "      <td>26</td>\n",
              "      <td>500000</td>\n",
              "      <td>Yes</td>\n",
              "    </tr>\n",
              "    <tr>\n",
              "      <th>11</th>\n",
              "      <td>A012</td>\n",
              "      <td>Lucy Bronze</td>\n",
              "      <td>F</td>\n",
              "      <td>26</td>\n",
              "      <td>600000</td>\n",
              "      <td>No</td>\n",
              "    </tr>\n",
              "    <tr>\n",
              "      <th>5</th>\n",
              "      <td>A006</td>\n",
              "      <td>Ilkay Gundogan</td>\n",
              "      <td>M</td>\n",
              "      <td>29</td>\n",
              "      <td>650000</td>\n",
              "      <td>Yes</td>\n",
              "    </tr>\n",
              "    <tr>\n",
              "      <th>8</th>\n",
              "      <td>A009</td>\n",
              "      <td>Kyle Walker</td>\n",
              "      <td>M</td>\n",
              "      <td>32</td>\n",
              "      <td>750000</td>\n",
              "      <td>Yes</td>\n",
              "    </tr>\n",
              "    <tr>\n",
              "      <th>3</th>\n",
              "      <td>A004</td>\n",
              "      <td>Jack Grealish</td>\n",
              "      <td>M</td>\n",
              "      <td>25</td>\n",
              "      <td>850000</td>\n",
              "      <td>Yes</td>\n",
              "    </tr>\n",
              "    <tr>\n",
              "      <th>4</th>\n",
              "      <td>A005</td>\n",
              "      <td>Riyad Mahrez</td>\n",
              "      <td>M</td>\n",
              "      <td>27</td>\n",
              "      <td>900000</td>\n",
              "      <td>No</td>\n",
              "    </tr>\n",
              "    <tr>\n",
              "      <th>0</th>\n",
              "      <td>A001</td>\n",
              "      <td>Phil Foden</td>\n",
              "      <td>M</td>\n",
              "      <td>21</td>\n",
              "      <td>1000000</td>\n",
              "      <td>Yes</td>\n",
              "    </tr>\n",
              "    <tr>\n",
              "      <th>17</th>\n",
              "      <td>A018</td>\n",
              "      <td>Jules Kounde</td>\n",
              "      <td>M</td>\n",
              "      <td>22</td>\n",
              "      <td>2500000</td>\n",
              "      <td>Yes</td>\n",
              "    </tr>\n",
              "    <tr>\n",
              "      <th>21</th>\n",
              "      <td>A022</td>\n",
              "      <td>Marcus Rashford</td>\n",
              "      <td>M</td>\n",
              "      <td>27</td>\n",
              "      <td>4200000</td>\n",
              "      <td>Yes</td>\n",
              "    </tr>\n",
              "    <tr>\n",
              "      <th>15</th>\n",
              "      <td>A016</td>\n",
              "      <td>Gavi</td>\n",
              "      <td>M</td>\n",
              "      <td>19</td>\n",
              "      <td>4500000</td>\n",
              "      <td>Yes</td>\n",
              "    </tr>\n",
              "    <tr>\n",
              "      <th>16</th>\n",
              "      <td>A017</td>\n",
              "      <td>Pedri</td>\n",
              "      <td>M</td>\n",
              "      <td>20</td>\n",
              "      <td>5500000</td>\n",
              "      <td>No</td>\n",
              "    </tr>\n",
              "    <tr>\n",
              "      <th>20</th>\n",
              "      <td>A021</td>\n",
              "      <td>Sergio Roberto</td>\n",
              "      <td>M</td>\n",
              "      <td>32</td>\n",
              "      <td>5600000</td>\n",
              "      <td>No</td>\n",
              "    </tr>\n",
              "    <tr>\n",
              "      <th>12</th>\n",
              "      <td>A013</td>\n",
              "      <td>Robert Lewandowski</td>\n",
              "      <td>M</td>\n",
              "      <td>33</td>\n",
              "      <td>9500000</td>\n",
              "      <td>No</td>\n",
              "    </tr>\n",
              "    <tr>\n",
              "      <th>24</th>\n",
              "      <td>A025</td>\n",
              "      <td>Shawn Mendes</td>\n",
              "      <td>M</td>\n",
              "      <td>27</td>\n",
              "      <td>28000000</td>\n",
              "      <td>Yes</td>\n",
              "    </tr>\n",
              "    <tr>\n",
              "      <th>23</th>\n",
              "      <td>A024</td>\n",
              "      <td>Ed Sheeran</td>\n",
              "      <td>M</td>\n",
              "      <td>35</td>\n",
              "      <td>63000000</td>\n",
              "      <td>No</td>\n",
              "    </tr>\n",
              "    <tr>\n",
              "      <th>22</th>\n",
              "      <td>A023</td>\n",
              "      <td>Bruno Fernandes</td>\n",
              "      <td>M</td>\n",
              "      <td>26</td>\n",
              "      <td>87000000</td>\n",
              "      <td>Yes</td>\n",
              "    </tr>\n",
              "  </tbody>\n",
              "</table>\n",
              "</div>\n",
              "      <button class=\"colab-df-convert\" onclick=\"convertToInteractive('df-d31170db-0d79-4195-8668-cfeeb2c0ad06')\"\n",
              "              title=\"Convert this dataframe to an interactive table.\"\n",
              "              style=\"display:none;\">\n",
              "        \n",
              "  <svg xmlns=\"http://www.w3.org/2000/svg\" height=\"24px\"viewBox=\"0 0 24 24\"\n",
              "       width=\"24px\">\n",
              "    <path d=\"M0 0h24v24H0V0z\" fill=\"none\"/>\n",
              "    <path d=\"M18.56 5.44l.94 2.06.94-2.06 2.06-.94-2.06-.94-.94-2.06-.94 2.06-2.06.94zm-11 1L8.5 8.5l.94-2.06 2.06-.94-2.06-.94L8.5 2.5l-.94 2.06-2.06.94zm10 10l.94 2.06.94-2.06 2.06-.94-2.06-.94-.94-2.06-.94 2.06-2.06.94z\"/><path d=\"M17.41 7.96l-1.37-1.37c-.4-.4-.92-.59-1.43-.59-.52 0-1.04.2-1.43.59L10.3 9.45l-7.72 7.72c-.78.78-.78 2.05 0 2.83L4 21.41c.39.39.9.59 1.41.59.51 0 1.02-.2 1.41-.59l7.78-7.78 2.81-2.81c.8-.78.8-2.07 0-2.86zM5.41 20L4 18.59l7.72-7.72 1.47 1.35L5.41 20z\"/>\n",
              "  </svg>\n",
              "      </button>\n",
              "      \n",
              "  <style>\n",
              "    .colab-df-container {\n",
              "      display:flex;\n",
              "      flex-wrap:wrap;\n",
              "      gap: 12px;\n",
              "    }\n",
              "\n",
              "    .colab-df-convert {\n",
              "      background-color: #E8F0FE;\n",
              "      border: none;\n",
              "      border-radius: 50%;\n",
              "      cursor: pointer;\n",
              "      display: none;\n",
              "      fill: #1967D2;\n",
              "      height: 32px;\n",
              "      padding: 0 0 0 0;\n",
              "      width: 32px;\n",
              "    }\n",
              "\n",
              "    .colab-df-convert:hover {\n",
              "      background-color: #E2EBFA;\n",
              "      box-shadow: 0px 1px 2px rgba(60, 64, 67, 0.3), 0px 1px 3px 1px rgba(60, 64, 67, 0.15);\n",
              "      fill: #174EA6;\n",
              "    }\n",
              "\n",
              "    [theme=dark] .colab-df-convert {\n",
              "      background-color: #3B4455;\n",
              "      fill: #D2E3FC;\n",
              "    }\n",
              "\n",
              "    [theme=dark] .colab-df-convert:hover {\n",
              "      background-color: #434B5C;\n",
              "      box-shadow: 0px 1px 3px 1px rgba(0, 0, 0, 0.15);\n",
              "      filter: drop-shadow(0px 1px 2px rgba(0, 0, 0, 0.3));\n",
              "      fill: #FFFFFF;\n",
              "    }\n",
              "  </style>\n",
              "\n",
              "      <script>\n",
              "        const buttonEl =\n",
              "          document.querySelector('#df-d31170db-0d79-4195-8668-cfeeb2c0ad06 button.colab-df-convert');\n",
              "        buttonEl.style.display =\n",
              "          google.colab.kernel.accessAllowed ? 'block' : 'none';\n",
              "\n",
              "        async function convertToInteractive(key) {\n",
              "          const element = document.querySelector('#df-d31170db-0d79-4195-8668-cfeeb2c0ad06');\n",
              "          const dataTable =\n",
              "            await google.colab.kernel.invokeFunction('convertToInteractive',\n",
              "                                                     [key], {});\n",
              "          if (!dataTable) return;\n",
              "\n",
              "          const docLinkHtml = 'Like what you see? Visit the ' +\n",
              "            '<a target=\"_blank\" href=https://colab.research.google.com/notebooks/data_table.ipynb>data table notebook</a>'\n",
              "            + ' to learn more about interactive tables.';\n",
              "          element.innerHTML = '';\n",
              "          dataTable['output_type'] = 'display_data';\n",
              "          await google.colab.output.renderOutput(dataTable, element);\n",
              "          const docLink = document.createElement('div');\n",
              "          docLink.innerHTML = docLinkHtml;\n",
              "          element.appendChild(docLink);\n",
              "        }\n",
              "      </script>\n",
              "    </div>\n",
              "  </div>\n",
              "  "
            ]
          },
          "metadata": {},
          "execution_count": 26
        }
      ]
    },
    {
      "cell_type": "code",
      "source": [
        "import pandas as pd\n",
        "x.sort_values(by=[\"Salary\"],ascending=False)"
      ],
      "metadata": {
        "colab": {
          "base_uri": "https://localhost:8080/",
          "height": 833
        },
        "id": "95sWDH6Qu__x",
        "outputId": "2968d157-a46f-4825-e1cf-b8ba7ae4bd28"
      },
      "execution_count": null,
      "outputs": [
        {
          "output_type": "execute_result",
          "data": {
            "text/plain": [
              "   EmpID                Name Gender  Age    Salary    S\n",
              "22  A023     Bruno Fernandes      M   26  87000000  Yes\n",
              "23  A024          Ed Sheeran      M   35  63000000   No\n",
              "24  A025        Shawn Mendes      M   27  28000000  Yes\n",
              "12  A013  Robert Lewandowski      M   33   9500000   No\n",
              "20  A021      Sergio Roberto      M   32   5600000   No\n",
              "16  A017               Pedri      M   20   5500000   No\n",
              "15  A016                Gavi      M   19   4500000  Yes\n",
              "21  A022     Marcus Rashford      M   27   4200000  Yes\n",
              "17  A018        Jules Kounde      M   22   2500000  Yes\n",
              "0   A001          Phil Foden      M   21   1000000  Yes\n",
              "4   A005        Riyad Mahrez      M   27    900000   No\n",
              "3   A004       Jack Grealish      M   25    850000  Yes\n",
              "8   A009         Kyle Walker      M   32    750000  Yes\n",
              "5   A006      Ilkay Gundogan      M   29    650000  Yes\n",
              "11  A012         Lucy Bronze      F   26    600000   No\n",
              "13  A014            Raphinha      M   26    500000  Yes\n",
              "19  A020     Sergio Busquets      M   35    480000  Yes\n",
              "10  A011      Julian Alvarez      M   22    400000   No\n",
              "2   A003     Kevin De Bruyne      M   29    340000  Yes\n",
              "18  A019       Ronald Araujo      M   23    320000  Yes\n",
              "7   A008          Ruben Dias      M   25    150000   No\n",
              "9   A010          Nathan Ake      M   25     80000  Yes\n",
              "14  A015       Ferran Torres      M   25     70000  Yes\n",
              "6   A007               Rodri      M   31     35000   No\n",
              "1   A002      Erling Haaland      M   23     20000   No"
            ],
            "text/html": [
              "\n",
              "  <div id=\"df-6f3b72c6-4d65-4643-be22-219cb654316c\">\n",
              "    <div class=\"colab-df-container\">\n",
              "      <div>\n",
              "<style scoped>\n",
              "    .dataframe tbody tr th:only-of-type {\n",
              "        vertical-align: middle;\n",
              "    }\n",
              "\n",
              "    .dataframe tbody tr th {\n",
              "        vertical-align: top;\n",
              "    }\n",
              "\n",
              "    .dataframe thead th {\n",
              "        text-align: right;\n",
              "    }\n",
              "</style>\n",
              "<table border=\"1\" class=\"dataframe\">\n",
              "  <thead>\n",
              "    <tr style=\"text-align: right;\">\n",
              "      <th></th>\n",
              "      <th>EmpID</th>\n",
              "      <th>Name</th>\n",
              "      <th>Gender</th>\n",
              "      <th>Age</th>\n",
              "      <th>Salary</th>\n",
              "      <th>S</th>\n",
              "    </tr>\n",
              "  </thead>\n",
              "  <tbody>\n",
              "    <tr>\n",
              "      <th>22</th>\n",
              "      <td>A023</td>\n",
              "      <td>Bruno Fernandes</td>\n",
              "      <td>M</td>\n",
              "      <td>26</td>\n",
              "      <td>87000000</td>\n",
              "      <td>Yes</td>\n",
              "    </tr>\n",
              "    <tr>\n",
              "      <th>23</th>\n",
              "      <td>A024</td>\n",
              "      <td>Ed Sheeran</td>\n",
              "      <td>M</td>\n",
              "      <td>35</td>\n",
              "      <td>63000000</td>\n",
              "      <td>No</td>\n",
              "    </tr>\n",
              "    <tr>\n",
              "      <th>24</th>\n",
              "      <td>A025</td>\n",
              "      <td>Shawn Mendes</td>\n",
              "      <td>M</td>\n",
              "      <td>27</td>\n",
              "      <td>28000000</td>\n",
              "      <td>Yes</td>\n",
              "    </tr>\n",
              "    <tr>\n",
              "      <th>12</th>\n",
              "      <td>A013</td>\n",
              "      <td>Robert Lewandowski</td>\n",
              "      <td>M</td>\n",
              "      <td>33</td>\n",
              "      <td>9500000</td>\n",
              "      <td>No</td>\n",
              "    </tr>\n",
              "    <tr>\n",
              "      <th>20</th>\n",
              "      <td>A021</td>\n",
              "      <td>Sergio Roberto</td>\n",
              "      <td>M</td>\n",
              "      <td>32</td>\n",
              "      <td>5600000</td>\n",
              "      <td>No</td>\n",
              "    </tr>\n",
              "    <tr>\n",
              "      <th>16</th>\n",
              "      <td>A017</td>\n",
              "      <td>Pedri</td>\n",
              "      <td>M</td>\n",
              "      <td>20</td>\n",
              "      <td>5500000</td>\n",
              "      <td>No</td>\n",
              "    </tr>\n",
              "    <tr>\n",
              "      <th>15</th>\n",
              "      <td>A016</td>\n",
              "      <td>Gavi</td>\n",
              "      <td>M</td>\n",
              "      <td>19</td>\n",
              "      <td>4500000</td>\n",
              "      <td>Yes</td>\n",
              "    </tr>\n",
              "    <tr>\n",
              "      <th>21</th>\n",
              "      <td>A022</td>\n",
              "      <td>Marcus Rashford</td>\n",
              "      <td>M</td>\n",
              "      <td>27</td>\n",
              "      <td>4200000</td>\n",
              "      <td>Yes</td>\n",
              "    </tr>\n",
              "    <tr>\n",
              "      <th>17</th>\n",
              "      <td>A018</td>\n",
              "      <td>Jules Kounde</td>\n",
              "      <td>M</td>\n",
              "      <td>22</td>\n",
              "      <td>2500000</td>\n",
              "      <td>Yes</td>\n",
              "    </tr>\n",
              "    <tr>\n",
              "      <th>0</th>\n",
              "      <td>A001</td>\n",
              "      <td>Phil Foden</td>\n",
              "      <td>M</td>\n",
              "      <td>21</td>\n",
              "      <td>1000000</td>\n",
              "      <td>Yes</td>\n",
              "    </tr>\n",
              "    <tr>\n",
              "      <th>4</th>\n",
              "      <td>A005</td>\n",
              "      <td>Riyad Mahrez</td>\n",
              "      <td>M</td>\n",
              "      <td>27</td>\n",
              "      <td>900000</td>\n",
              "      <td>No</td>\n",
              "    </tr>\n",
              "    <tr>\n",
              "      <th>3</th>\n",
              "      <td>A004</td>\n",
              "      <td>Jack Grealish</td>\n",
              "      <td>M</td>\n",
              "      <td>25</td>\n",
              "      <td>850000</td>\n",
              "      <td>Yes</td>\n",
              "    </tr>\n",
              "    <tr>\n",
              "      <th>8</th>\n",
              "      <td>A009</td>\n",
              "      <td>Kyle Walker</td>\n",
              "      <td>M</td>\n",
              "      <td>32</td>\n",
              "      <td>750000</td>\n",
              "      <td>Yes</td>\n",
              "    </tr>\n",
              "    <tr>\n",
              "      <th>5</th>\n",
              "      <td>A006</td>\n",
              "      <td>Ilkay Gundogan</td>\n",
              "      <td>M</td>\n",
              "      <td>29</td>\n",
              "      <td>650000</td>\n",
              "      <td>Yes</td>\n",
              "    </tr>\n",
              "    <tr>\n",
              "      <th>11</th>\n",
              "      <td>A012</td>\n",
              "      <td>Lucy Bronze</td>\n",
              "      <td>F</td>\n",
              "      <td>26</td>\n",
              "      <td>600000</td>\n",
              "      <td>No</td>\n",
              "    </tr>\n",
              "    <tr>\n",
              "      <th>13</th>\n",
              "      <td>A014</td>\n",
              "      <td>Raphinha</td>\n",
              "      <td>M</td>\n",
              "      <td>26</td>\n",
              "      <td>500000</td>\n",
              "      <td>Yes</td>\n",
              "    </tr>\n",
              "    <tr>\n",
              "      <th>19</th>\n",
              "      <td>A020</td>\n",
              "      <td>Sergio Busquets</td>\n",
              "      <td>M</td>\n",
              "      <td>35</td>\n",
              "      <td>480000</td>\n",
              "      <td>Yes</td>\n",
              "    </tr>\n",
              "    <tr>\n",
              "      <th>10</th>\n",
              "      <td>A011</td>\n",
              "      <td>Julian Alvarez</td>\n",
              "      <td>M</td>\n",
              "      <td>22</td>\n",
              "      <td>400000</td>\n",
              "      <td>No</td>\n",
              "    </tr>\n",
              "    <tr>\n",
              "      <th>2</th>\n",
              "      <td>A003</td>\n",
              "      <td>Kevin De Bruyne</td>\n",
              "      <td>M</td>\n",
              "      <td>29</td>\n",
              "      <td>340000</td>\n",
              "      <td>Yes</td>\n",
              "    </tr>\n",
              "    <tr>\n",
              "      <th>18</th>\n",
              "      <td>A019</td>\n",
              "      <td>Ronald Araujo</td>\n",
              "      <td>M</td>\n",
              "      <td>23</td>\n",
              "      <td>320000</td>\n",
              "      <td>Yes</td>\n",
              "    </tr>\n",
              "    <tr>\n",
              "      <th>7</th>\n",
              "      <td>A008</td>\n",
              "      <td>Ruben Dias</td>\n",
              "      <td>M</td>\n",
              "      <td>25</td>\n",
              "      <td>150000</td>\n",
              "      <td>No</td>\n",
              "    </tr>\n",
              "    <tr>\n",
              "      <th>9</th>\n",
              "      <td>A010</td>\n",
              "      <td>Nathan Ake</td>\n",
              "      <td>M</td>\n",
              "      <td>25</td>\n",
              "      <td>80000</td>\n",
              "      <td>Yes</td>\n",
              "    </tr>\n",
              "    <tr>\n",
              "      <th>14</th>\n",
              "      <td>A015</td>\n",
              "      <td>Ferran Torres</td>\n",
              "      <td>M</td>\n",
              "      <td>25</td>\n",
              "      <td>70000</td>\n",
              "      <td>Yes</td>\n",
              "    </tr>\n",
              "    <tr>\n",
              "      <th>6</th>\n",
              "      <td>A007</td>\n",
              "      <td>Rodri</td>\n",
              "      <td>M</td>\n",
              "      <td>31</td>\n",
              "      <td>35000</td>\n",
              "      <td>No</td>\n",
              "    </tr>\n",
              "    <tr>\n",
              "      <th>1</th>\n",
              "      <td>A002</td>\n",
              "      <td>Erling Haaland</td>\n",
              "      <td>M</td>\n",
              "      <td>23</td>\n",
              "      <td>20000</td>\n",
              "      <td>No</td>\n",
              "    </tr>\n",
              "  </tbody>\n",
              "</table>\n",
              "</div>\n",
              "      <button class=\"colab-df-convert\" onclick=\"convertToInteractive('df-6f3b72c6-4d65-4643-be22-219cb654316c')\"\n",
              "              title=\"Convert this dataframe to an interactive table.\"\n",
              "              style=\"display:none;\">\n",
              "        \n",
              "  <svg xmlns=\"http://www.w3.org/2000/svg\" height=\"24px\"viewBox=\"0 0 24 24\"\n",
              "       width=\"24px\">\n",
              "    <path d=\"M0 0h24v24H0V0z\" fill=\"none\"/>\n",
              "    <path d=\"M18.56 5.44l.94 2.06.94-2.06 2.06-.94-2.06-.94-.94-2.06-.94 2.06-2.06.94zm-11 1L8.5 8.5l.94-2.06 2.06-.94-2.06-.94L8.5 2.5l-.94 2.06-2.06.94zm10 10l.94 2.06.94-2.06 2.06-.94-2.06-.94-.94-2.06-.94 2.06-2.06.94z\"/><path d=\"M17.41 7.96l-1.37-1.37c-.4-.4-.92-.59-1.43-.59-.52 0-1.04.2-1.43.59L10.3 9.45l-7.72 7.72c-.78.78-.78 2.05 0 2.83L4 21.41c.39.39.9.59 1.41.59.51 0 1.02-.2 1.41-.59l7.78-7.78 2.81-2.81c.8-.78.8-2.07 0-2.86zM5.41 20L4 18.59l7.72-7.72 1.47 1.35L5.41 20z\"/>\n",
              "  </svg>\n",
              "      </button>\n",
              "      \n",
              "  <style>\n",
              "    .colab-df-container {\n",
              "      display:flex;\n",
              "      flex-wrap:wrap;\n",
              "      gap: 12px;\n",
              "    }\n",
              "\n",
              "    .colab-df-convert {\n",
              "      background-color: #E8F0FE;\n",
              "      border: none;\n",
              "      border-radius: 50%;\n",
              "      cursor: pointer;\n",
              "      display: none;\n",
              "      fill: #1967D2;\n",
              "      height: 32px;\n",
              "      padding: 0 0 0 0;\n",
              "      width: 32px;\n",
              "    }\n",
              "\n",
              "    .colab-df-convert:hover {\n",
              "      background-color: #E2EBFA;\n",
              "      box-shadow: 0px 1px 2px rgba(60, 64, 67, 0.3), 0px 1px 3px 1px rgba(60, 64, 67, 0.15);\n",
              "      fill: #174EA6;\n",
              "    }\n",
              "\n",
              "    [theme=dark] .colab-df-convert {\n",
              "      background-color: #3B4455;\n",
              "      fill: #D2E3FC;\n",
              "    }\n",
              "\n",
              "    [theme=dark] .colab-df-convert:hover {\n",
              "      background-color: #434B5C;\n",
              "      box-shadow: 0px 1px 3px 1px rgba(0, 0, 0, 0.15);\n",
              "      filter: drop-shadow(0px 1px 2px rgba(0, 0, 0, 0.3));\n",
              "      fill: #FFFFFF;\n",
              "    }\n",
              "  </style>\n",
              "\n",
              "      <script>\n",
              "        const buttonEl =\n",
              "          document.querySelector('#df-6f3b72c6-4d65-4643-be22-219cb654316c button.colab-df-convert');\n",
              "        buttonEl.style.display =\n",
              "          google.colab.kernel.accessAllowed ? 'block' : 'none';\n",
              "\n",
              "        async function convertToInteractive(key) {\n",
              "          const element = document.querySelector('#df-6f3b72c6-4d65-4643-be22-219cb654316c');\n",
              "          const dataTable =\n",
              "            await google.colab.kernel.invokeFunction('convertToInteractive',\n",
              "                                                     [key], {});\n",
              "          if (!dataTable) return;\n",
              "\n",
              "          const docLinkHtml = 'Like what you see? Visit the ' +\n",
              "            '<a target=\"_blank\" href=https://colab.research.google.com/notebooks/data_table.ipynb>data table notebook</a>'\n",
              "            + ' to learn more about interactive tables.';\n",
              "          element.innerHTML = '';\n",
              "          dataTable['output_type'] = 'display_data';\n",
              "          await google.colab.output.renderOutput(dataTable, element);\n",
              "          const docLink = document.createElement('div');\n",
              "          docLink.innerHTML = docLinkHtml;\n",
              "          element.appendChild(docLink);\n",
              "        }\n",
              "      </script>\n",
              "    </div>\n",
              "  </div>\n",
              "  "
            ]
          },
          "metadata": {},
          "execution_count": 13
        }
      ]
    },
    {
      "cell_type": "code",
      "source": [
        "import pandas as pd\n",
        "x.sort_values(by=[\"Age\"])"
      ],
      "metadata": {
        "colab": {
          "base_uri": "https://localhost:8080/",
          "height": 833
        },
        "id": "gUGmVaH4vGoJ",
        "outputId": "6c17afd5-ddc5-49f5-e9db-4576dd22be43"
      },
      "execution_count": null,
      "outputs": [
        {
          "output_type": "execute_result",
          "data": {
            "text/plain": [
              "   EmpID                Name Gender  Age    Salary    S\n",
              "15  A016                Gavi      M   19   4500000  Yes\n",
              "16  A017               Pedri      M   20   5500000   No\n",
              "0   A001          Phil Foden      M   21   1000000  Yes\n",
              "17  A018        Jules Kounde      M   22   2500000  Yes\n",
              "10  A011      Julian Alvarez      M   22    400000   No\n",
              "1   A002      Erling Haaland      M   23     20000   No\n",
              "18  A019       Ronald Araujo      M   23    320000  Yes\n",
              "3   A004       Jack Grealish      M   25    850000  Yes\n",
              "7   A008          Ruben Dias      M   25    150000   No\n",
              "9   A010          Nathan Ake      M   25     80000  Yes\n",
              "14  A015       Ferran Torres      M   25     70000  Yes\n",
              "22  A023     Bruno Fernandes      M   26  87000000  Yes\n",
              "11  A012         Lucy Bronze      F   26    600000   No\n",
              "13  A014            Raphinha      M   26    500000  Yes\n",
              "21  A022     Marcus Rashford      M   27   4200000  Yes\n",
              "24  A025        Shawn Mendes      M   27  28000000  Yes\n",
              "4   A005        Riyad Mahrez      M   27    900000   No\n",
              "5   A006      Ilkay Gundogan      M   29    650000  Yes\n",
              "2   A003     Kevin De Bruyne      M   29    340000  Yes\n",
              "6   A007               Rodri      M   31     35000   No\n",
              "8   A009         Kyle Walker      M   32    750000  Yes\n",
              "20  A021      Sergio Roberto      M   32   5600000   No\n",
              "12  A013  Robert Lewandowski      M   33   9500000   No\n",
              "19  A020     Sergio Busquets      M   35    480000  Yes\n",
              "23  A024          Ed Sheeran      M   35  63000000   No"
            ],
            "text/html": [
              "\n",
              "  <div id=\"df-82610196-1dd1-492c-a21a-439a00dbfa3c\">\n",
              "    <div class=\"colab-df-container\">\n",
              "      <div>\n",
              "<style scoped>\n",
              "    .dataframe tbody tr th:only-of-type {\n",
              "        vertical-align: middle;\n",
              "    }\n",
              "\n",
              "    .dataframe tbody tr th {\n",
              "        vertical-align: top;\n",
              "    }\n",
              "\n",
              "    .dataframe thead th {\n",
              "        text-align: right;\n",
              "    }\n",
              "</style>\n",
              "<table border=\"1\" class=\"dataframe\">\n",
              "  <thead>\n",
              "    <tr style=\"text-align: right;\">\n",
              "      <th></th>\n",
              "      <th>EmpID</th>\n",
              "      <th>Name</th>\n",
              "      <th>Gender</th>\n",
              "      <th>Age</th>\n",
              "      <th>Salary</th>\n",
              "      <th>S</th>\n",
              "    </tr>\n",
              "  </thead>\n",
              "  <tbody>\n",
              "    <tr>\n",
              "      <th>15</th>\n",
              "      <td>A016</td>\n",
              "      <td>Gavi</td>\n",
              "      <td>M</td>\n",
              "      <td>19</td>\n",
              "      <td>4500000</td>\n",
              "      <td>Yes</td>\n",
              "    </tr>\n",
              "    <tr>\n",
              "      <th>16</th>\n",
              "      <td>A017</td>\n",
              "      <td>Pedri</td>\n",
              "      <td>M</td>\n",
              "      <td>20</td>\n",
              "      <td>5500000</td>\n",
              "      <td>No</td>\n",
              "    </tr>\n",
              "    <tr>\n",
              "      <th>0</th>\n",
              "      <td>A001</td>\n",
              "      <td>Phil Foden</td>\n",
              "      <td>M</td>\n",
              "      <td>21</td>\n",
              "      <td>1000000</td>\n",
              "      <td>Yes</td>\n",
              "    </tr>\n",
              "    <tr>\n",
              "      <th>17</th>\n",
              "      <td>A018</td>\n",
              "      <td>Jules Kounde</td>\n",
              "      <td>M</td>\n",
              "      <td>22</td>\n",
              "      <td>2500000</td>\n",
              "      <td>Yes</td>\n",
              "    </tr>\n",
              "    <tr>\n",
              "      <th>10</th>\n",
              "      <td>A011</td>\n",
              "      <td>Julian Alvarez</td>\n",
              "      <td>M</td>\n",
              "      <td>22</td>\n",
              "      <td>400000</td>\n",
              "      <td>No</td>\n",
              "    </tr>\n",
              "    <tr>\n",
              "      <th>1</th>\n",
              "      <td>A002</td>\n",
              "      <td>Erling Haaland</td>\n",
              "      <td>M</td>\n",
              "      <td>23</td>\n",
              "      <td>20000</td>\n",
              "      <td>No</td>\n",
              "    </tr>\n",
              "    <tr>\n",
              "      <th>18</th>\n",
              "      <td>A019</td>\n",
              "      <td>Ronald Araujo</td>\n",
              "      <td>M</td>\n",
              "      <td>23</td>\n",
              "      <td>320000</td>\n",
              "      <td>Yes</td>\n",
              "    </tr>\n",
              "    <tr>\n",
              "      <th>3</th>\n",
              "      <td>A004</td>\n",
              "      <td>Jack Grealish</td>\n",
              "      <td>M</td>\n",
              "      <td>25</td>\n",
              "      <td>850000</td>\n",
              "      <td>Yes</td>\n",
              "    </tr>\n",
              "    <tr>\n",
              "      <th>7</th>\n",
              "      <td>A008</td>\n",
              "      <td>Ruben Dias</td>\n",
              "      <td>M</td>\n",
              "      <td>25</td>\n",
              "      <td>150000</td>\n",
              "      <td>No</td>\n",
              "    </tr>\n",
              "    <tr>\n",
              "      <th>9</th>\n",
              "      <td>A010</td>\n",
              "      <td>Nathan Ake</td>\n",
              "      <td>M</td>\n",
              "      <td>25</td>\n",
              "      <td>80000</td>\n",
              "      <td>Yes</td>\n",
              "    </tr>\n",
              "    <tr>\n",
              "      <th>14</th>\n",
              "      <td>A015</td>\n",
              "      <td>Ferran Torres</td>\n",
              "      <td>M</td>\n",
              "      <td>25</td>\n",
              "      <td>70000</td>\n",
              "      <td>Yes</td>\n",
              "    </tr>\n",
              "    <tr>\n",
              "      <th>22</th>\n",
              "      <td>A023</td>\n",
              "      <td>Bruno Fernandes</td>\n",
              "      <td>M</td>\n",
              "      <td>26</td>\n",
              "      <td>87000000</td>\n",
              "      <td>Yes</td>\n",
              "    </tr>\n",
              "    <tr>\n",
              "      <th>11</th>\n",
              "      <td>A012</td>\n",
              "      <td>Lucy Bronze</td>\n",
              "      <td>F</td>\n",
              "      <td>26</td>\n",
              "      <td>600000</td>\n",
              "      <td>No</td>\n",
              "    </tr>\n",
              "    <tr>\n",
              "      <th>13</th>\n",
              "      <td>A014</td>\n",
              "      <td>Raphinha</td>\n",
              "      <td>M</td>\n",
              "      <td>26</td>\n",
              "      <td>500000</td>\n",
              "      <td>Yes</td>\n",
              "    </tr>\n",
              "    <tr>\n",
              "      <th>21</th>\n",
              "      <td>A022</td>\n",
              "      <td>Marcus Rashford</td>\n",
              "      <td>M</td>\n",
              "      <td>27</td>\n",
              "      <td>4200000</td>\n",
              "      <td>Yes</td>\n",
              "    </tr>\n",
              "    <tr>\n",
              "      <th>24</th>\n",
              "      <td>A025</td>\n",
              "      <td>Shawn Mendes</td>\n",
              "      <td>M</td>\n",
              "      <td>27</td>\n",
              "      <td>28000000</td>\n",
              "      <td>Yes</td>\n",
              "    </tr>\n",
              "    <tr>\n",
              "      <th>4</th>\n",
              "      <td>A005</td>\n",
              "      <td>Riyad Mahrez</td>\n",
              "      <td>M</td>\n",
              "      <td>27</td>\n",
              "      <td>900000</td>\n",
              "      <td>No</td>\n",
              "    </tr>\n",
              "    <tr>\n",
              "      <th>5</th>\n",
              "      <td>A006</td>\n",
              "      <td>Ilkay Gundogan</td>\n",
              "      <td>M</td>\n",
              "      <td>29</td>\n",
              "      <td>650000</td>\n",
              "      <td>Yes</td>\n",
              "    </tr>\n",
              "    <tr>\n",
              "      <th>2</th>\n",
              "      <td>A003</td>\n",
              "      <td>Kevin De Bruyne</td>\n",
              "      <td>M</td>\n",
              "      <td>29</td>\n",
              "      <td>340000</td>\n",
              "      <td>Yes</td>\n",
              "    </tr>\n",
              "    <tr>\n",
              "      <th>6</th>\n",
              "      <td>A007</td>\n",
              "      <td>Rodri</td>\n",
              "      <td>M</td>\n",
              "      <td>31</td>\n",
              "      <td>35000</td>\n",
              "      <td>No</td>\n",
              "    </tr>\n",
              "    <tr>\n",
              "      <th>8</th>\n",
              "      <td>A009</td>\n",
              "      <td>Kyle Walker</td>\n",
              "      <td>M</td>\n",
              "      <td>32</td>\n",
              "      <td>750000</td>\n",
              "      <td>Yes</td>\n",
              "    </tr>\n",
              "    <tr>\n",
              "      <th>20</th>\n",
              "      <td>A021</td>\n",
              "      <td>Sergio Roberto</td>\n",
              "      <td>M</td>\n",
              "      <td>32</td>\n",
              "      <td>5600000</td>\n",
              "      <td>No</td>\n",
              "    </tr>\n",
              "    <tr>\n",
              "      <th>12</th>\n",
              "      <td>A013</td>\n",
              "      <td>Robert Lewandowski</td>\n",
              "      <td>M</td>\n",
              "      <td>33</td>\n",
              "      <td>9500000</td>\n",
              "      <td>No</td>\n",
              "    </tr>\n",
              "    <tr>\n",
              "      <th>19</th>\n",
              "      <td>A020</td>\n",
              "      <td>Sergio Busquets</td>\n",
              "      <td>M</td>\n",
              "      <td>35</td>\n",
              "      <td>480000</td>\n",
              "      <td>Yes</td>\n",
              "    </tr>\n",
              "    <tr>\n",
              "      <th>23</th>\n",
              "      <td>A024</td>\n",
              "      <td>Ed Sheeran</td>\n",
              "      <td>M</td>\n",
              "      <td>35</td>\n",
              "      <td>63000000</td>\n",
              "      <td>No</td>\n",
              "    </tr>\n",
              "  </tbody>\n",
              "</table>\n",
              "</div>\n",
              "      <button class=\"colab-df-convert\" onclick=\"convertToInteractive('df-82610196-1dd1-492c-a21a-439a00dbfa3c')\"\n",
              "              title=\"Convert this dataframe to an interactive table.\"\n",
              "              style=\"display:none;\">\n",
              "        \n",
              "  <svg xmlns=\"http://www.w3.org/2000/svg\" height=\"24px\"viewBox=\"0 0 24 24\"\n",
              "       width=\"24px\">\n",
              "    <path d=\"M0 0h24v24H0V0z\" fill=\"none\"/>\n",
              "    <path d=\"M18.56 5.44l.94 2.06.94-2.06 2.06-.94-2.06-.94-.94-2.06-.94 2.06-2.06.94zm-11 1L8.5 8.5l.94-2.06 2.06-.94-2.06-.94L8.5 2.5l-.94 2.06-2.06.94zm10 10l.94 2.06.94-2.06 2.06-.94-2.06-.94-.94-2.06-.94 2.06-2.06.94z\"/><path d=\"M17.41 7.96l-1.37-1.37c-.4-.4-.92-.59-1.43-.59-.52 0-1.04.2-1.43.59L10.3 9.45l-7.72 7.72c-.78.78-.78 2.05 0 2.83L4 21.41c.39.39.9.59 1.41.59.51 0 1.02-.2 1.41-.59l7.78-7.78 2.81-2.81c.8-.78.8-2.07 0-2.86zM5.41 20L4 18.59l7.72-7.72 1.47 1.35L5.41 20z\"/>\n",
              "  </svg>\n",
              "      </button>\n",
              "      \n",
              "  <style>\n",
              "    .colab-df-container {\n",
              "      display:flex;\n",
              "      flex-wrap:wrap;\n",
              "      gap: 12px;\n",
              "    }\n",
              "\n",
              "    .colab-df-convert {\n",
              "      background-color: #E8F0FE;\n",
              "      border: none;\n",
              "      border-radius: 50%;\n",
              "      cursor: pointer;\n",
              "      display: none;\n",
              "      fill: #1967D2;\n",
              "      height: 32px;\n",
              "      padding: 0 0 0 0;\n",
              "      width: 32px;\n",
              "    }\n",
              "\n",
              "    .colab-df-convert:hover {\n",
              "      background-color: #E2EBFA;\n",
              "      box-shadow: 0px 1px 2px rgba(60, 64, 67, 0.3), 0px 1px 3px 1px rgba(60, 64, 67, 0.15);\n",
              "      fill: #174EA6;\n",
              "    }\n",
              "\n",
              "    [theme=dark] .colab-df-convert {\n",
              "      background-color: #3B4455;\n",
              "      fill: #D2E3FC;\n",
              "    }\n",
              "\n",
              "    [theme=dark] .colab-df-convert:hover {\n",
              "      background-color: #434B5C;\n",
              "      box-shadow: 0px 1px 3px 1px rgba(0, 0, 0, 0.15);\n",
              "      filter: drop-shadow(0px 1px 2px rgba(0, 0, 0, 0.3));\n",
              "      fill: #FFFFFF;\n",
              "    }\n",
              "  </style>\n",
              "\n",
              "      <script>\n",
              "        const buttonEl =\n",
              "          document.querySelector('#df-82610196-1dd1-492c-a21a-439a00dbfa3c button.colab-df-convert');\n",
              "        buttonEl.style.display =\n",
              "          google.colab.kernel.accessAllowed ? 'block' : 'none';\n",
              "\n",
              "        async function convertToInteractive(key) {\n",
              "          const element = document.querySelector('#df-82610196-1dd1-492c-a21a-439a00dbfa3c');\n",
              "          const dataTable =\n",
              "            await google.colab.kernel.invokeFunction('convertToInteractive',\n",
              "                                                     [key], {});\n",
              "          if (!dataTable) return;\n",
              "\n",
              "          const docLinkHtml = 'Like what you see? Visit the ' +\n",
              "            '<a target=\"_blank\" href=https://colab.research.google.com/notebooks/data_table.ipynb>data table notebook</a>'\n",
              "            + ' to learn more about interactive tables.';\n",
              "          element.innerHTML = '';\n",
              "          dataTable['output_type'] = 'display_data';\n",
              "          await google.colab.output.renderOutput(dataTable, element);\n",
              "          const docLink = document.createElement('div');\n",
              "          docLink.innerHTML = docLinkHtml;\n",
              "          element.appendChild(docLink);\n",
              "        }\n",
              "      </script>\n",
              "    </div>\n",
              "  </div>\n",
              "  "
            ]
          },
          "metadata": {},
          "execution_count": 14
        }
      ]
    },
    {
      "cell_type": "code",
      "source": [
        "import pandas as pd\n",
        "x.sort_values(by=[\"Age\"],ascending=False)"
      ],
      "metadata": {
        "colab": {
          "base_uri": "https://localhost:8080/",
          "height": 833
        },
        "id": "OnzlrioNvQtR",
        "outputId": "71b3c8c7-4e29-480e-9e3d-d37329a1ea7f"
      },
      "execution_count": null,
      "outputs": [
        {
          "output_type": "execute_result",
          "data": {
            "text/plain": [
              "   EmpID                Name Gender  Age    Salary    S\n",
              "19  A020     Sergio Busquets      M   35    480000  Yes\n",
              "23  A024          Ed Sheeran      M   35  63000000   No\n",
              "12  A013  Robert Lewandowski      M   33   9500000   No\n",
              "20  A021      Sergio Roberto      M   32   5600000   No\n",
              "8   A009         Kyle Walker      M   32    750000  Yes\n",
              "6   A007               Rodri      M   31     35000   No\n",
              "2   A003     Kevin De Bruyne      M   29    340000  Yes\n",
              "5   A006      Ilkay Gundogan      M   29    650000  Yes\n",
              "21  A022     Marcus Rashford      M   27   4200000  Yes\n",
              "24  A025        Shawn Mendes      M   27  28000000  Yes\n",
              "4   A005        Riyad Mahrez      M   27    900000   No\n",
              "11  A012         Lucy Bronze      F   26    600000   No\n",
              "13  A014            Raphinha      M   26    500000  Yes\n",
              "22  A023     Bruno Fernandes      M   26  87000000  Yes\n",
              "14  A015       Ferran Torres      M   25     70000  Yes\n",
              "9   A010          Nathan Ake      M   25     80000  Yes\n",
              "7   A008          Ruben Dias      M   25    150000   No\n",
              "3   A004       Jack Grealish      M   25    850000  Yes\n",
              "1   A002      Erling Haaland      M   23     20000   No\n",
              "18  A019       Ronald Araujo      M   23    320000  Yes\n",
              "10  A011      Julian Alvarez      M   22    400000   No\n",
              "17  A018        Jules Kounde      M   22   2500000  Yes\n",
              "0   A001          Phil Foden      M   21   1000000  Yes\n",
              "16  A017               Pedri      M   20   5500000   No\n",
              "15  A016                Gavi      M   19   4500000  Yes"
            ],
            "text/html": [
              "\n",
              "  <div id=\"df-96b54a41-071a-4478-be05-072b3d8430d5\">\n",
              "    <div class=\"colab-df-container\">\n",
              "      <div>\n",
              "<style scoped>\n",
              "    .dataframe tbody tr th:only-of-type {\n",
              "        vertical-align: middle;\n",
              "    }\n",
              "\n",
              "    .dataframe tbody tr th {\n",
              "        vertical-align: top;\n",
              "    }\n",
              "\n",
              "    .dataframe thead th {\n",
              "        text-align: right;\n",
              "    }\n",
              "</style>\n",
              "<table border=\"1\" class=\"dataframe\">\n",
              "  <thead>\n",
              "    <tr style=\"text-align: right;\">\n",
              "      <th></th>\n",
              "      <th>EmpID</th>\n",
              "      <th>Name</th>\n",
              "      <th>Gender</th>\n",
              "      <th>Age</th>\n",
              "      <th>Salary</th>\n",
              "      <th>S</th>\n",
              "    </tr>\n",
              "  </thead>\n",
              "  <tbody>\n",
              "    <tr>\n",
              "      <th>19</th>\n",
              "      <td>A020</td>\n",
              "      <td>Sergio Busquets</td>\n",
              "      <td>M</td>\n",
              "      <td>35</td>\n",
              "      <td>480000</td>\n",
              "      <td>Yes</td>\n",
              "    </tr>\n",
              "    <tr>\n",
              "      <th>23</th>\n",
              "      <td>A024</td>\n",
              "      <td>Ed Sheeran</td>\n",
              "      <td>M</td>\n",
              "      <td>35</td>\n",
              "      <td>63000000</td>\n",
              "      <td>No</td>\n",
              "    </tr>\n",
              "    <tr>\n",
              "      <th>12</th>\n",
              "      <td>A013</td>\n",
              "      <td>Robert Lewandowski</td>\n",
              "      <td>M</td>\n",
              "      <td>33</td>\n",
              "      <td>9500000</td>\n",
              "      <td>No</td>\n",
              "    </tr>\n",
              "    <tr>\n",
              "      <th>20</th>\n",
              "      <td>A021</td>\n",
              "      <td>Sergio Roberto</td>\n",
              "      <td>M</td>\n",
              "      <td>32</td>\n",
              "      <td>5600000</td>\n",
              "      <td>No</td>\n",
              "    </tr>\n",
              "    <tr>\n",
              "      <th>8</th>\n",
              "      <td>A009</td>\n",
              "      <td>Kyle Walker</td>\n",
              "      <td>M</td>\n",
              "      <td>32</td>\n",
              "      <td>750000</td>\n",
              "      <td>Yes</td>\n",
              "    </tr>\n",
              "    <tr>\n",
              "      <th>6</th>\n",
              "      <td>A007</td>\n",
              "      <td>Rodri</td>\n",
              "      <td>M</td>\n",
              "      <td>31</td>\n",
              "      <td>35000</td>\n",
              "      <td>No</td>\n",
              "    </tr>\n",
              "    <tr>\n",
              "      <th>2</th>\n",
              "      <td>A003</td>\n",
              "      <td>Kevin De Bruyne</td>\n",
              "      <td>M</td>\n",
              "      <td>29</td>\n",
              "      <td>340000</td>\n",
              "      <td>Yes</td>\n",
              "    </tr>\n",
              "    <tr>\n",
              "      <th>5</th>\n",
              "      <td>A006</td>\n",
              "      <td>Ilkay Gundogan</td>\n",
              "      <td>M</td>\n",
              "      <td>29</td>\n",
              "      <td>650000</td>\n",
              "      <td>Yes</td>\n",
              "    </tr>\n",
              "    <tr>\n",
              "      <th>21</th>\n",
              "      <td>A022</td>\n",
              "      <td>Marcus Rashford</td>\n",
              "      <td>M</td>\n",
              "      <td>27</td>\n",
              "      <td>4200000</td>\n",
              "      <td>Yes</td>\n",
              "    </tr>\n",
              "    <tr>\n",
              "      <th>24</th>\n",
              "      <td>A025</td>\n",
              "      <td>Shawn Mendes</td>\n",
              "      <td>M</td>\n",
              "      <td>27</td>\n",
              "      <td>28000000</td>\n",
              "      <td>Yes</td>\n",
              "    </tr>\n",
              "    <tr>\n",
              "      <th>4</th>\n",
              "      <td>A005</td>\n",
              "      <td>Riyad Mahrez</td>\n",
              "      <td>M</td>\n",
              "      <td>27</td>\n",
              "      <td>900000</td>\n",
              "      <td>No</td>\n",
              "    </tr>\n",
              "    <tr>\n",
              "      <th>11</th>\n",
              "      <td>A012</td>\n",
              "      <td>Lucy Bronze</td>\n",
              "      <td>F</td>\n",
              "      <td>26</td>\n",
              "      <td>600000</td>\n",
              "      <td>No</td>\n",
              "    </tr>\n",
              "    <tr>\n",
              "      <th>13</th>\n",
              "      <td>A014</td>\n",
              "      <td>Raphinha</td>\n",
              "      <td>M</td>\n",
              "      <td>26</td>\n",
              "      <td>500000</td>\n",
              "      <td>Yes</td>\n",
              "    </tr>\n",
              "    <tr>\n",
              "      <th>22</th>\n",
              "      <td>A023</td>\n",
              "      <td>Bruno Fernandes</td>\n",
              "      <td>M</td>\n",
              "      <td>26</td>\n",
              "      <td>87000000</td>\n",
              "      <td>Yes</td>\n",
              "    </tr>\n",
              "    <tr>\n",
              "      <th>14</th>\n",
              "      <td>A015</td>\n",
              "      <td>Ferran Torres</td>\n",
              "      <td>M</td>\n",
              "      <td>25</td>\n",
              "      <td>70000</td>\n",
              "      <td>Yes</td>\n",
              "    </tr>\n",
              "    <tr>\n",
              "      <th>9</th>\n",
              "      <td>A010</td>\n",
              "      <td>Nathan Ake</td>\n",
              "      <td>M</td>\n",
              "      <td>25</td>\n",
              "      <td>80000</td>\n",
              "      <td>Yes</td>\n",
              "    </tr>\n",
              "    <tr>\n",
              "      <th>7</th>\n",
              "      <td>A008</td>\n",
              "      <td>Ruben Dias</td>\n",
              "      <td>M</td>\n",
              "      <td>25</td>\n",
              "      <td>150000</td>\n",
              "      <td>No</td>\n",
              "    </tr>\n",
              "    <tr>\n",
              "      <th>3</th>\n",
              "      <td>A004</td>\n",
              "      <td>Jack Grealish</td>\n",
              "      <td>M</td>\n",
              "      <td>25</td>\n",
              "      <td>850000</td>\n",
              "      <td>Yes</td>\n",
              "    </tr>\n",
              "    <tr>\n",
              "      <th>1</th>\n",
              "      <td>A002</td>\n",
              "      <td>Erling Haaland</td>\n",
              "      <td>M</td>\n",
              "      <td>23</td>\n",
              "      <td>20000</td>\n",
              "      <td>No</td>\n",
              "    </tr>\n",
              "    <tr>\n",
              "      <th>18</th>\n",
              "      <td>A019</td>\n",
              "      <td>Ronald Araujo</td>\n",
              "      <td>M</td>\n",
              "      <td>23</td>\n",
              "      <td>320000</td>\n",
              "      <td>Yes</td>\n",
              "    </tr>\n",
              "    <tr>\n",
              "      <th>10</th>\n",
              "      <td>A011</td>\n",
              "      <td>Julian Alvarez</td>\n",
              "      <td>M</td>\n",
              "      <td>22</td>\n",
              "      <td>400000</td>\n",
              "      <td>No</td>\n",
              "    </tr>\n",
              "    <tr>\n",
              "      <th>17</th>\n",
              "      <td>A018</td>\n",
              "      <td>Jules Kounde</td>\n",
              "      <td>M</td>\n",
              "      <td>22</td>\n",
              "      <td>2500000</td>\n",
              "      <td>Yes</td>\n",
              "    </tr>\n",
              "    <tr>\n",
              "      <th>0</th>\n",
              "      <td>A001</td>\n",
              "      <td>Phil Foden</td>\n",
              "      <td>M</td>\n",
              "      <td>21</td>\n",
              "      <td>1000000</td>\n",
              "      <td>Yes</td>\n",
              "    </tr>\n",
              "    <tr>\n",
              "      <th>16</th>\n",
              "      <td>A017</td>\n",
              "      <td>Pedri</td>\n",
              "      <td>M</td>\n",
              "      <td>20</td>\n",
              "      <td>5500000</td>\n",
              "      <td>No</td>\n",
              "    </tr>\n",
              "    <tr>\n",
              "      <th>15</th>\n",
              "      <td>A016</td>\n",
              "      <td>Gavi</td>\n",
              "      <td>M</td>\n",
              "      <td>19</td>\n",
              "      <td>4500000</td>\n",
              "      <td>Yes</td>\n",
              "    </tr>\n",
              "  </tbody>\n",
              "</table>\n",
              "</div>\n",
              "      <button class=\"colab-df-convert\" onclick=\"convertToInteractive('df-96b54a41-071a-4478-be05-072b3d8430d5')\"\n",
              "              title=\"Convert this dataframe to an interactive table.\"\n",
              "              style=\"display:none;\">\n",
              "        \n",
              "  <svg xmlns=\"http://www.w3.org/2000/svg\" height=\"24px\"viewBox=\"0 0 24 24\"\n",
              "       width=\"24px\">\n",
              "    <path d=\"M0 0h24v24H0V0z\" fill=\"none\"/>\n",
              "    <path d=\"M18.56 5.44l.94 2.06.94-2.06 2.06-.94-2.06-.94-.94-2.06-.94 2.06-2.06.94zm-11 1L8.5 8.5l.94-2.06 2.06-.94-2.06-.94L8.5 2.5l-.94 2.06-2.06.94zm10 10l.94 2.06.94-2.06 2.06-.94-2.06-.94-.94-2.06-.94 2.06-2.06.94z\"/><path d=\"M17.41 7.96l-1.37-1.37c-.4-.4-.92-.59-1.43-.59-.52 0-1.04.2-1.43.59L10.3 9.45l-7.72 7.72c-.78.78-.78 2.05 0 2.83L4 21.41c.39.39.9.59 1.41.59.51 0 1.02-.2 1.41-.59l7.78-7.78 2.81-2.81c.8-.78.8-2.07 0-2.86zM5.41 20L4 18.59l7.72-7.72 1.47 1.35L5.41 20z\"/>\n",
              "  </svg>\n",
              "      </button>\n",
              "      \n",
              "  <style>\n",
              "    .colab-df-container {\n",
              "      display:flex;\n",
              "      flex-wrap:wrap;\n",
              "      gap: 12px;\n",
              "    }\n",
              "\n",
              "    .colab-df-convert {\n",
              "      background-color: #E8F0FE;\n",
              "      border: none;\n",
              "      border-radius: 50%;\n",
              "      cursor: pointer;\n",
              "      display: none;\n",
              "      fill: #1967D2;\n",
              "      height: 32px;\n",
              "      padding: 0 0 0 0;\n",
              "      width: 32px;\n",
              "    }\n",
              "\n",
              "    .colab-df-convert:hover {\n",
              "      background-color: #E2EBFA;\n",
              "      box-shadow: 0px 1px 2px rgba(60, 64, 67, 0.3), 0px 1px 3px 1px rgba(60, 64, 67, 0.15);\n",
              "      fill: #174EA6;\n",
              "    }\n",
              "\n",
              "    [theme=dark] .colab-df-convert {\n",
              "      background-color: #3B4455;\n",
              "      fill: #D2E3FC;\n",
              "    }\n",
              "\n",
              "    [theme=dark] .colab-df-convert:hover {\n",
              "      background-color: #434B5C;\n",
              "      box-shadow: 0px 1px 3px 1px rgba(0, 0, 0, 0.15);\n",
              "      filter: drop-shadow(0px 1px 2px rgba(0, 0, 0, 0.3));\n",
              "      fill: #FFFFFF;\n",
              "    }\n",
              "  </style>\n",
              "\n",
              "      <script>\n",
              "        const buttonEl =\n",
              "          document.querySelector('#df-96b54a41-071a-4478-be05-072b3d8430d5 button.colab-df-convert');\n",
              "        buttonEl.style.display =\n",
              "          google.colab.kernel.accessAllowed ? 'block' : 'none';\n",
              "\n",
              "        async function convertToInteractive(key) {\n",
              "          const element = document.querySelector('#df-96b54a41-071a-4478-be05-072b3d8430d5');\n",
              "          const dataTable =\n",
              "            await google.colab.kernel.invokeFunction('convertToInteractive',\n",
              "                                                     [key], {});\n",
              "          if (!dataTable) return;\n",
              "\n",
              "          const docLinkHtml = 'Like what you see? Visit the ' +\n",
              "            '<a target=\"_blank\" href=https://colab.research.google.com/notebooks/data_table.ipynb>data table notebook</a>'\n",
              "            + ' to learn more about interactive tables.';\n",
              "          element.innerHTML = '';\n",
              "          dataTable['output_type'] = 'display_data';\n",
              "          await google.colab.output.renderOutput(dataTable, element);\n",
              "          const docLink = document.createElement('div');\n",
              "          docLink.innerHTML = docLinkHtml;\n",
              "          element.appendChild(docLink);\n",
              "        }\n",
              "      </script>\n",
              "    </div>\n",
              "  </div>\n",
              "  "
            ]
          },
          "metadata": {},
          "execution_count": 29
        }
      ]
    },
    {
      "cell_type": "code",
      "source": [
        "import csv\n",
        "\n",
        "\n",
        "def abc():\n",
        "    with open('/content/drive/MyDrive/empswim.csv','r') as file:\n",
        "        reader = csv.reader(file)\n",
        "\n",
        "        names=[]\n",
        "        for row in reader:\n",
        "            p=int(row[4])\n",
        "\n",
        "            if (p >= 7000):\n",
        "                names.append(row[1])\n",
        "        print(names)\n",
        "y = abc()\n",
        "print(y)"
      ],
      "metadata": {
        "id": "AzgzPpjH35zl"
      },
      "execution_count": null,
      "outputs": []
    },
    {
      "cell_type": "code",
      "source": [
        "import csv\n",
        "\n",
        "f1=open(\"/content/drive/MyDrive/empswim.csv\",\"r\")\n",
        "\n",
        "\n",
        "d1=tuple(csv.reader(f1,delimiter=\",\"))\n",
        "\n",
        "\n",
        "print(\"\\nFile 1 contents: \",d1)\n"
      ],
      "metadata": {
        "colab": {
          "base_uri": "https://localhost:8080/"
        },
        "id": "41txcgq-4zhS",
        "outputId": "c21e3227-949e-4605-c05d-147a6c03db16"
      },
      "execution_count": null,
      "outputs": [
        {
          "output_type": "stream",
          "name": "stdout",
          "text": [
            "\n",
            "File 1 contents:  (['EmpID', 'Name', 'Gender', 'Age', 'Salary', 'S'], ['A001', 'Phil Foden', 'M', '21', '1000000', 'Yes'], ['A002', 'Erling Haaland', 'M', '23', '20000', 'No'], ['A003', 'Kevin De Bruyne', 'M', '29', '340000', 'Yes'], ['A004', 'Jack Grealish', 'M', '25', '850000', 'Yes'], ['A005', 'Riyad Mahrez', 'M', '27', '900000', 'No'], ['A006', 'Ilkay Gundogan', 'M', '29', '650000', 'Yes'], ['A007', 'Rodri', 'M', '31', '35000', 'No'], ['A008', 'Ruben Dias', 'M', '25', '150000', 'No'], ['A009', 'Kyle Walker', 'M', '32', '750000', 'Yes'], ['A010', 'Nathan Ake', 'M', '25', '80000', 'Yes'], ['A011', 'Julian Alvarez', 'M', '22', '400000', 'No'], ['A012', 'Lucy Bronze', 'F', '26', '600000', 'No'], ['A013', 'Robert Lewandowski', 'M', '33', '9500000', 'No'], ['A014', 'Raphinha', 'M', '26', '500000', 'Yes'], ['A015', 'Ferran Torres', 'M', '25', '70000', 'Yes'], ['A016', 'Gavi', 'M', '19', '4500000', 'Yes'], ['A017', 'Pedri', 'M', '20', '5500000', 'No'], ['A018', 'Jules Kounde', 'M', '22', '2500000', 'Yes'], ['A019', 'Ronald Araujo', 'M', '23', '320000', 'Yes'], ['A020', 'Sergio Busquets', 'M', '35', '480000', 'Yes'], ['A021', 'Sergio Roberto', 'M', '32', '5600000', 'No'], ['A022', 'Marcus Rashford', 'M', '27', '4200000', 'Yes'], ['A023', 'Bruno Fernandes', 'M', '26', '87000000', 'Yes'], ['A024', 'Ed Sheeran', 'M', '35', '63000000', 'No'], ['A025', 'Shawn Mendes', 'M', '27', '28000000', 'Yes'])\n"
          ]
        }
      ]
    },
    {
      "cell_type": "code",
      "source": [
        "import pandas as pd\n",
        "\n",
        "x=pd.read_csv(\"/content/drive/MyDrive/hobby.csv\")\n",
        "\n",
        "y=x[(x[\"Age\"] > 25) & (x[\"Gender\"] == \"Male\")]\n",
        "\n",
        "print(y)\n",
        "\n",
        "\n"
      ],
      "metadata": {
        "colab": {
          "base_uri": "https://localhost:8080/"
        },
        "id": "pce0WeWXRcuB",
        "outputId": "048adc13-8ec6-40ab-b66e-d6b15a7388f6"
      },
      "execution_count": null,
      "outputs": [
        {
          "output_type": "stream",
          "name": "stdout",
          "text": [
            "      Name Gender  Age   Hobbies\n",
            "0   Robert   Male   34   Running\n",
            "1      Leo   Male   36  Football\n",
            "9    Bruce   Male   28   Walking\n",
            "13   Niall   Male   32   Singing\n",
            "14   Harry   Male   27  Football\n",
            "15   Louis   Male   31  Football\n",
            "16    Liam   Male   29   Singing\n"
          ]
        }
      ]
    },
    {
      "cell_type": "code",
      "source": [
        "import csv\n",
        "\n",
        "f1=open(\"/content/drive/MyDrive/hobby.csv\",\"r\")\n",
        "\n",
        "\n",
        "d1=list(csv.reader(f1,delimiter=\",\"))\n",
        "\n",
        "\n",
        "\n",
        "d1.append([\"Cristian\",\"Male\",\"38\",\"Football\"])\n",
        "print(d1)\n",
        "d1.remove(['Lorde', 'Female', '23', 'Singing'])\n",
        "print(d1)\n",
        "d1.pop()\n",
        "print(d1)\n",
        "d1.remove()"
      ],
      "metadata": {
        "colab": {
          "base_uri": "https://localhost:8080/"
        },
        "id": "6WDk40OXdYC3",
        "outputId": "dbb36721-cffd-4d4f-db48-f00e6bc71218"
      },
      "execution_count": null,
      "outputs": [
        {
          "output_type": "stream",
          "name": "stdout",
          "text": [
            "[['Name', 'Gender', 'Age', 'Hobbies'], ['Robert', 'Male', '34', 'Running'], ['Leo', 'Male', '36', 'Football'], ['Pablo', 'Male', '19', 'Football'], ['Mason', 'Male', '23', 'Walking'], ['Lucy', 'Female', '26', 'Painting'], ['Josh', 'Male', '24', 'Cooking'], ['Lara', 'Female', '25', 'Dancing'], ['Lilly', 'Female', '37', 'Youtube'], ['Eve', 'Female', '21', 'Cooking'], ['Bruce', 'Male', '28', 'Walking'], ['Olivia', 'Female', '30', 'Singing'], ['Lorde', 'Female', '23', 'Singing'], ['Taylor', 'Female', '34', 'Theatre'], ['Niall', 'Male', '32', 'Singing'], ['Harry', 'Male', '27', 'Football'], ['Louis', 'Male', '31', 'Football'], ['Liam', 'Male', '29', 'Singing'], ['Cristian', 'Male', '38', 'Football']]\n",
            "[['Name', 'Gender', 'Age', 'Hobbies'], ['Robert', 'Male', '34', 'Running'], ['Leo', 'Male', '36', 'Football'], ['Pablo', 'Male', '19', 'Football'], ['Mason', 'Male', '23', 'Walking'], ['Lucy', 'Female', '26', 'Painting'], ['Josh', 'Male', '24', 'Cooking'], ['Lara', 'Female', '25', 'Dancing'], ['Lilly', 'Female', '37', 'Youtube'], ['Eve', 'Female', '21', 'Cooking'], ['Bruce', 'Male', '28', 'Walking'], ['Olivia', 'Female', '30', 'Singing'], ['Taylor', 'Female', '34', 'Theatre'], ['Niall', 'Male', '32', 'Singing'], ['Harry', 'Male', '27', 'Football'], ['Louis', 'Male', '31', 'Football'], ['Liam', 'Male', '29', 'Singing'], ['Cristian', 'Male', '38', 'Football']]\n",
            "[['Name', 'Gender', 'Age', 'Hobbies'], ['Robert', 'Male', '34', 'Running'], ['Leo', 'Male', '36', 'Football'], ['Pablo', 'Male', '19', 'Football'], ['Mason', 'Male', '23', 'Walking'], ['Lucy', 'Female', '26', 'Painting'], ['Josh', 'Male', '24', 'Cooking'], ['Lara', 'Female', '25', 'Dancing'], ['Lilly', 'Female', '37', 'Youtube'], ['Eve', 'Female', '21', 'Cooking'], ['Bruce', 'Male', '28', 'Walking'], ['Olivia', 'Female', '30', 'Singing'], ['Taylor', 'Female', '34', 'Theatre'], ['Niall', 'Male', '32', 'Singing'], ['Harry', 'Male', '27', 'Football'], ['Louis', 'Male', '31', 'Football'], ['Liam', 'Male', '29', 'Singing']]\n"
          ]
        }
      ]
    },
    {
      "cell_type": "code",
      "source": [
        "import pandas as pd\n",
        "x=pd.read_excel(\"/content/drive/MyDrive/10A.xlsx\")\n",
        "data=x.values.tolist()\n",
        "\n",
        "a=x['Name']\n",
        "b=x['Marks']\n",
        "x.marks=x.Marks.astype('float64')\n",
        "d=x['Name'][x.marks>95]\n",
        "\n",
        "def student(d):\n",
        "  print(\"Student's result: \\n\",d)\n",
        "\n",
        "student(d)"
      ],
      "metadata": {
        "colab": {
          "base_uri": "https://localhost:8080/"
        },
        "id": "ZLfoDhWcoVW5",
        "outputId": "27f4fc05-1613-4c8e-9922-8026dd938ed3"
      },
      "execution_count": null,
      "outputs": [
        {
          "output_type": "stream",
          "name": "stdout",
          "text": [
            "Student's result: \n",
            " 0    Apoorv\n",
            "1     Rohan\n",
            "Name: Name, dtype: object\n"
          ]
        },
        {
          "output_type": "stream",
          "name": "stderr",
          "text": [
            "<ipython-input-11-1e63eefec8af>:7: UserWarning: Pandas doesn't allow columns to be created via a new attribute name - see https://pandas.pydata.org/pandas-docs/stable/indexing.html#attribute-access\n",
            "  x.marks=x.Marks.astype('float64')\n"
          ]
        }
      ]
    },
    {
      "cell_type": "code",
      "source": [
        "x=[96,65,93,85]\n",
        "y=(\"Apoorv\",65,69,90)\n",
        "x.extend(y)\n",
        "print(x)"
      ],
      "metadata": {
        "colab": {
          "base_uri": "https://localhost:8080/"
        },
        "id": "QfuUIosZ5jHp",
        "outputId": "e91a3f0e-6145-4a0c-b4f5-7c48443f6279"
      },
      "execution_count": null,
      "outputs": [
        {
          "output_type": "stream",
          "name": "stdout",
          "text": [
            "[96, 65, 93, 85, 'Apoorv', 65, 69, 90]\n"
          ]
        }
      ]
    },
    {
      "cell_type": "code",
      "source": [
        "#EDS ASSIGNMENT 3 : \"NUMPY OPERATIONS\"\n",
        "\n",
        "\n",
        "import numpy as np\n",
        "\n",
        "array = np.loadtxt('/content/drive/MyDrive/scores.csv', delimiter=',' ,skiprows=1)\n",
        "print(array)\n",
        "math_scores =[]\n",
        "science_scores=[]\n",
        "english_scores=[]\n",
        "\n",
        "\n",
        "for i in array:\n",
        "  math_scores.append(int(i[1]))\n",
        "  science_scores.append(int(i[2]))\n",
        "  english_scores.append(int(i[3]))\n",
        "\n",
        "\n",
        "#converting list into array\n",
        "\n",
        "arr_ms=np.array(math_scores)\n",
        "arr_ss=np.array(science_scores)\n",
        "arr_es=np.array(english_scores)\n",
        "\n",
        "#displaying the array\n",
        "\n",
        "print(\"* MATH SCORES: \",arr_ms)\n",
        "print(\"* SCIENCE SCORES: \",arr_ss)\n",
        "print(\"* ENGLISH SCORES: \",arr_es)\n",
        "\n",
        "# Addition\n",
        "\n",
        "total_scores = arr_ms + arr_ss + arr_es\n",
        "print(\"1.Addition :\",total_scores)\n",
        "\n",
        "# Subtraction\n",
        "\n",
        "math_minus_english = arr_ms - arr_es\n",
        "print(\"2.Subtraction :\",math_minus_english)\n",
        "\n",
        "# Multiplication\n",
        "\n",
        "science_times_2 = arr_ss * 2\n",
        "print(\"3.Multiplication :\",science_times_2)\n",
        "\n",
        "# Division\n",
        "\n",
        "english_divided_by_math = arr_es / arr_ms\n",
        "print(\"4.Division :\",english_divided_by_math)\n",
        "\n",
        "# Transpose\n",
        "\n",
        "english_transposed = np.transpose(arr_es)\n",
        "print(\"5.Transpose :\",english_transposed)\n",
        "\n",
        "\n",
        "# Horizontal stacking\n",
        "\n",
        "horizontal_stack = np.hstack((arr_ms, arr_ss, arr_es))\n",
        "print(\"6.Horizontal stacking :\",horizontal_stack)\n",
        "\n",
        "# Vertical stacking\n",
        "\n",
        "vertical_stack = np.vstack((arr_ms, arr_ss, arr_es))\n",
        "print(\"7.Vertical stacking :\",vertical_stack)\n",
        "\n",
        "\n",
        "# Generate sequence of science score indices 0 to 4 along with values\n",
        "\n",
        "indices = np.arange(len(arr_ss))\n",
        "\n",
        "# Access data using the generated indices\n",
        "\n",
        "for i in indices:\n",
        "    print(\"8.Science score at index\", i, \":\", arr_ss[i])\n",
        "\n",
        "\n",
        "\n",
        "# Copying arrays\n",
        "\n",
        "math_scores_copy = arr_ms.copy()\n",
        "print(\"9.Copying arrays :\",math_scores_copy)\n",
        "\n",
        "# Viewing arrays\n",
        "\n",
        "science_scores_view = arr_ss.view()\n",
        "print(\"10.Viewing arrays :\",science_scores_view)\n",
        "\n",
        "\n",
        "\n",
        "# Data Stacking\n",
        "\n",
        "data_stack = np.stack((arr_ms, arr_ss, arr_es), axis=1)\n",
        "print(\"11.Data Stacking :\",data_stack)\n",
        "\n",
        "# Searching\n",
        "\n",
        "index_of_92 = np.where(arr_ms == 92)\n",
        "print(\"12.Searching :\",index_of_92)\n",
        "\n",
        "# Sorting\n",
        "\n",
        "sorted_math_scores = np.sort(arr_ms)\n",
        "print(\"13.Sorting :\",sorted_math_scores)\n",
        "\n",
        "# Counting\n",
        "\n",
        "count_88 = np.count_nonzero(arr_es == 88)\n",
        "print(\"14.Counting :\",count_88)\n",
        "\n",
        "# Broadcasting\n",
        "\n",
        "broadcasted_sum = arr_ms + 10\n",
        "print(\"15.Broadcasting :\",broadcasted_sum)"
      ],
      "metadata": {
        "colab": {
          "base_uri": "https://localhost:8080/"
        },
        "id": "QqnyMTh75EWT",
        "outputId": "e2abaf00-f6cc-4487-9044-018a33d3b39f"
      },
      "execution_count": null,
      "outputs": [
        {
          "output_type": "stream",
          "name": "stdout",
          "text": [
            "[[ 1. 90. 82. 88.]\n",
            " [ 2. 85. 95. 92.]\n",
            " [ 3. 92. 88. 85.]\n",
            " [ 4. 78. 79. 90.]\n",
            " [ 5. 88. 91. 94.]]\n",
            "* MATH SCORES:  [90 85 92 78 88]\n",
            "* SCIENCE SCORES:  [82 95 88 79 91]\n",
            "* ENGLISH SCORES:  [88 92 85 90 94]\n",
            "1.Addition : [260 272 265 247 273]\n",
            "2.Subtraction : [  2  -7   7 -12  -6]\n",
            "3.Multiplication : [164 190 176 158 182]\n",
            "4.Division : [0.97777778 1.08235294 0.92391304 1.15384615 1.06818182]\n",
            "5.Transpose : [88 92 85 90 94]\n",
            "6.Horizontal stacking : [90 85 92 78 88 82 95 88 79 91 88 92 85 90 94]\n",
            "7.Vertical stacking : [[90 85 92 78 88]\n",
            " [82 95 88 79 91]\n",
            " [88 92 85 90 94]]\n",
            "8.Science score at index 0 : 82\n",
            "8.Science score at index 1 : 95\n",
            "8.Science score at index 2 : 88\n",
            "8.Science score at index 3 : 79\n",
            "8.Science score at index 4 : 91\n",
            "9.Copying arrays : [90 85 92 78 88]\n",
            "10.Viewing arrays : [82 95 88 79 91]\n",
            "11.Data Stacking : [[90 82 88]\n",
            " [85 95 92]\n",
            " [92 88 85]\n",
            " [78 79 90]\n",
            " [88 91 94]]\n",
            "12.Searching : (array([2]),)\n",
            "13.Sorting : [78 85 88 90 92]\n",
            "14.Counting : 1\n",
            "15.Broadcasting : [100  95 102  88  98]\n"
          ]
        }
      ]
    },
    {
      "cell_type": "code",
      "source": [
        "import pandas as pd\n",
        "import matplotlib.pyplot as plt\n",
        "\n",
        "df = pd.read_csv('/content/drive/MyDrive/pl22-23.csv')\n",
        "\n",
        "df.plot()\n",
        "\n",
        "plt.show()\n",
        "\n"
      ],
      "metadata": {
        "id": "H139VBsHZuBf",
        "colab": {
          "base_uri": "https://localhost:8080/",
          "height": 430
        },
        "outputId": "14ac35fb-920d-46cf-b9cb-3c66c4f6483f"
      },
      "execution_count": null,
      "outputs": [
        {
          "output_type": "display_data",
          "data": {
            "text/plain": [
              "<Figure size 640x480 with 1 Axes>"
            ],
            "image/png": "[encoded data removed]"
          },
          "metadata": {}
        }
      ]
    },
    {
      "cell_type": "code",
      "source": [
        "import pandas as pd\n",
        "import matplotlib.pyplot as plt\n",
        "\n",
        "df = pd.read_csv('/content/drive/MyDrive/pl22-23.csv')\n",
        "\n",
        "df.plot(kind = 'scatter', x = \"Player's Name\", y = 'Fotmob rating')\n",
        "\n",
        "plt.show()"
      ],
      "metadata": {
        "id": "15PpNNkBd0Wo"
      },
      "execution_count": null,
      "outputs": []
    },
    {
      "cell_type": "code",
      "source": [
        "import sys\n",
        "import matplotlib\n",
        "matplotlib.use('Agg')\n",
        "\n",
        "import pandas as pd\n",
        "import matplotlib.pyplot as plt\n",
        "\n",
        "df = pd.read_csv('/content/drive/MyDrive/pl22-23.csv')\n",
        "\n",
        "df.plot(kind = 'scatter', x = \"Player's Name\", y = 'Fotmob rating')\n",
        "\n",
        "plt.show()\n",
        "#Two  lines to make our compiler able to draw:\n",
        "plt.savefig(sys.stdout.buffer)\n",
        "sys.stdout.flush()\n"
      ],
      "metadata": {
        "colab": {
          "base_uri": "https://localhost:8080/",
          "height": 217
        },
        "id": "VzhdqeVceffQ",
        "outputId": "6038c65a-49e5-4a2a-fb43-c1ef7848ae11"
      },
      "execution_count": null,
      "outputs": [
        {
          "output_type": "error",
          "ename": "AttributeError",
          "evalue": "ignored",
          "traceback": [
            "\u001b[0;31m---------------------------------------------------------------------------\u001b[0m",
            "\u001b[0;31mAttributeError\u001b[0m                            Traceback (most recent call last)",
            "\u001b[0;32m<ipython-input-9-7d29802dc054>\u001b[0m in \u001b[0;36m<cell line: 14>\u001b[0;34m()\u001b[0m\n\u001b[1;32m     12\u001b[0m \u001b[0mplt\u001b[0m\u001b[0;34m.\u001b[0m\u001b[0mshow\u001b[0m\u001b[0;34m(\u001b[0m\u001b[0;34m)\u001b[0m\u001b[0;34m\u001b[0m\u001b[0;34m\u001b[0m\u001b[0m\n\u001b[1;32m     13\u001b[0m \u001b[0;31m#Two  lines to make our compiler able to draw:\u001b[0m\u001b[0;34m\u001b[0m\u001b[0;34m\u001b[0m\u001b[0m\n\u001b[0;32m---> 14\u001b[0;31m \u001b[0mplt\u001b[0m\u001b[0;34m.\u001b[0m\u001b[0msavefig\u001b[0m\u001b[0;34m(\u001b[0m\u001b[0msys\u001b[0m\u001b[0;34m.\u001b[0m\u001b[0mstdout\u001b[0m\u001b[0;34m.\u001b[0m\u001b[0mbuffer\u001b[0m\u001b[0;34m)\u001b[0m\u001b[0;34m\u001b[0m\u001b[0;34m\u001b[0m\u001b[0m\n\u001b[0m\u001b[1;32m     15\u001b[0m \u001b[0msys\u001b[0m\u001b[0;34m.\u001b[0m\u001b[0mstdout\u001b[0m\u001b[0;34m.\u001b[0m\u001b[0mflush\u001b[0m\u001b[0;34m(\u001b[0m\u001b[0;34m)\u001b[0m\u001b[0;34m\u001b[0m\u001b[0;34m\u001b[0m\u001b[0m\n",
            "\u001b[0;31mAttributeError\u001b[0m: 'OutStream' object has no attribute 'buffer'"
          ]
        }
      ]
    },
    {
      "cell_type": "code",
      "source": [
        "import pandas as pd\n",
        "import matplotlib.pyplot as plt\n",
        "df = pd.read_csv('/content/drive/MyDrive/empdetails.csv')\n",
        "print(df)"
      ],
      "metadata": {
        "colab": {
          "base_uri": "https://localhost:8080/"
        },
        "id": "kGTi8y6QbkrM",
        "outputId": "488e42b5-4d1a-4672-ca01-d4761e6d0da1"
      },
      "execution_count": null,
      "outputs": [
        {
          "output_type": "stream",
          "name": "stdout",
          "text": [
            "    ID       Name  Work Experience                   Role\n",
            "0    1    Apoorva                5                     HR\n",
            "1    2  Siddharth                3  Jr. Backend Developer\n",
            "2    3    Saksham                4         Product Tester\n",
            "3    4      Rohan                4     Frontend Developer\n",
            "4    5    Anushka                3       Quality Incharge\n",
            "5    6     Kaveri                5                Manager\n",
            "6    7     Shweta                4          Risk Analyser\n",
            "7    8       Yash                6   Full Stack Developer\n",
            "8    9   Priyansh                3              Recruiter\n",
            "9   10     Anusha                4          Data enginner\n",
            "10  11    Sumanyu                3          Data Analyser\n",
            "11  12    Kalpita                6          Administrator\n"
          ]
        }
      ]
    },
    {
      "cell_type": "code",
      "source": [
        "import pandas as pd\n",
        "import matplotlib.pyplot as plt\n",
        "\n",
        "data = [['E001', 'M', 34, 123,350],\n",
        "\t\t['E002', 'F', 40, 114,450],\n",
        "\t\t['E003', 'F', 37, 135,169],\n",
        "\t\t['E004', 'M', 30, 139,189],\n",
        "\t\t['E005', 'F', 44, 117,183],\n",
        "\t\t['E006', 'M', 36, 121,80],\n",
        "\t\t['E007', 'M', 32, 133,166],\n",
        "\t\t['E008', 'F', 26, 140,120],\n",
        "\t\t['E009', 'M', 32, 133,75],\n",
        "\t\t['E010', 'M', 36, 133,40] ]\n",
        "\n",
        "\n",
        "df = pd.DataFrame(data, columns = ['EMPID', 'Gender','Age', 'Sales', 'Income'] )\n",
        "\n",
        "df.hist()\n",
        "\n",
        "plt.show()\n"
      ],
      "metadata": {
        "colab": {
          "base_uri": "https://localhost:8080/",
          "height": 452
        },
        "id": "-qgSwlQAdLcV",
        "outputId": "4b8bed63-84d6-42bd-bd52-9a1d863bea18"
      },
      "execution_count": null,
      "outputs": [
        {
          "output_type": "display_data",
          "data": {
            "text/plain": [
              "<Figure size 640x480 with 4 Axes>"
            ],
            "image/png": "[encoded data removed]"
          },
          "metadata": {}
        }
      ]
    },
    {
      "cell_type": "code",
      "source": [
        "df.plot.bar()\n",
        "\n",
        "\n",
        "plt.bar(df['Age'], df['Income'])\n",
        "plt.xlabel(\"Age\")\n",
        "plt.ylabel(\"Income\")\n",
        "plt.show()"
      ],
      "metadata": {
        "colab": {
          "base_uri": "https://localhost:8080/",
          "height": 444
        },
        "id": "yX8GiRCkeC8N",
        "outputId": "51127445-4c46-4166-b725-57ba813fdfdf"
      },
      "execution_count": null,
      "outputs": [
        {
          "output_type": "display_data",
          "data": {
            "text/plain": [
              "<Figure size 640x480 with 1 Axes>"
            ],
            "image/png": "[encoded data removed]"
          },
          "metadata": {}
        }
      ]
    },
    {
      "cell_type": "code",
      "source": [
        "plt.pie(df['Age'], labels = {\"A\", \"B\", \"C\",\n",
        "                             \"D\", \"E\", \"F\",\n",
        "                             \"G\", \"H\", \"I\", \"J\"})\n",
        "plt.show()\n",
        "\n"
      ],
      "metadata": {
        "colab": {
          "base_uri": "https://localhost:8080/",
          "height": 406
        },
        "id": "7OrRNJ63e10d",
        "outputId": "8e495148-177a-4565-8320-e464b827333d"
      },
      "execution_count": null,
      "outputs": [
        {
          "output_type": "display_data",
          "data": {
            "text/plain": [
              "<Figure size 640x480 with 1 Axes>"
            ],
            "image/png": "[encoded data removed]"
          },
          "metadata": {}
        }
      ]
    },
    {
      "cell_type": "code",
      "source": [
        "# scatter plot between income and age\n",
        "plt.scatter(df['Income'], df['Age'])\n",
        "plt.show()\n",
        "\n"
      ],
      "metadata": {
        "colab": {
          "base_uri": "https://localhost:8080/",
          "height": 430
        },
        "id": "YBTHH6BVgEA9",
        "outputId": "2b7d68ab-e71e-4a17-d009-1b992e18fc3c"
      },
      "execution_count": null,
      "outputs": [
        {
          "output_type": "display_data",
          "data": {
            "text/plain": [
              "<Figure size 640x480 with 1 Axes>"
            ],
            "image/png": "[encoded data removed]"
          },
          "metadata": {}
        }
      ]
    },
    {
      "cell_type": "code",
      "source": [
        "import pandas as pd\n",
        "import matplotlib.pyplot as plt\n",
        "\n",
        "df = pd.read_csv('/content/drive/MyDrive/pl22-23.csv')\n",
        "\n",
        "df.plot()\n",
        "\n",
        "plt.show()"
      ],
      "metadata": {
        "colab": {
          "base_uri": "https://localhost:8080/",
          "height": 430
        },
        "id": "Ij-L8up1iwZf",
        "outputId": "82f16a40-d1ba-4758-a40a-db78c6a74c13"
      },
      "execution_count": null,
      "outputs": [
        {
          "output_type": "display_data",
          "data": {
            "text/plain": [
              "<Figure size 640x480 with 1 Axes>"
            ],
            "image/png": "[encoded data removed]"
          },
          "metadata": {}
        }
      ]
    },
    {
      "cell_type": "code",
      "source": [
        "import pandas as pd\n",
        "import numpy as np\n",
        "\n",
        "import matplotlib.pyplot as plt\n",
        "from sklearn.linear_model import LinearRegression\n",
        "\n",
        "# Read the dataset from a file\n",
        "df = pd.read_csv('StudentsPerformanceDataSet.csv')\n",
        "\n",
        "# Task 1: Find total score of female students\n",
        "total_score_female = df.loc[df['gender'] == 'female', 'math score':'writing score'].sum(axis=1).sum()\n",
        "print(\"Total score of female students:\", total_score_female)\n",
        "\n",
        "# Task 2: Find total score of male students whose test preparation is 'completed'\n",
        "total_score_male_completed = df.loc[(df['gender'] == 'male') & (df['test preparation course'] == 'completed'), 'math score':'writing score'].sum(axis=1).sum()\n",
        "print(\"Total score of male students with completed test preparation:\", total_score_male_completed)\n",
        "\n",
        "# Task 3: Find the count of students for each race and group by parental level of education\n",
        "count_race_parental = df.groupby(['race/ethnicity', 'parental level of education']).size().reset_index(name='count')\n",
        "print(\"Count of students for each race and parental level of education:\")\n",
        "print(count_race_parental)\n",
        "\n",
        "# Task 4: Find the count of students whose lunch is free\n",
        "count_free_lunch = df.loc[df['lunch'] == 'free/reduced', 'gender'].count()\n",
        "print(\"Count of students with free lunch:\", count_free_lunch)\n",
        "\n",
        "# Task 5: Plot bar chart for race-wise maximum score\n",
        "racewise_max_score = df.groupby('race/ethnicity')['math score', 'reading score', 'writing score'].max()\n",
        "racewise_max_score.plot(kind='bar', xlabel='Race/Ethnicity', ylabel='Maximum Score')\n",
        "\n",
        "# Task 6: Plot Parent level of education wise maximum and minimum total score\n",
        "eduwise_score = df.groupby('parental level of education')['math score', 'reading score', 'writing score'].agg(['max', 'min'])\n",
        "eduwise_score.plot(kind='bar', xlabel='Parental Level of Education', ylabel='Total Score')\n",
        "\n",
        "# Task 7: Apply Linear Regression to show the relationship between writing and reading scores\n",
        "X = df['writing score'].values.reshape(-1, 1)\n",
        "y = df['reading score'].values.reshape(-1, 1)\n",
        "\n",
        "regressor = LinearRegression()\n",
        "regressor.fit(X, y)\n",
        "\n",
        "# Visualize the linear regression line\n",
        "plt.scatter(X, y)\n",
        "plt.plot(X, regressor.predict(X), color='red', linewidth=2)\n",
        "plt.xlabel('Writing Score')\n",
        "plt.ylabel('Reading Score')\n",
        "plt.show()\n"
      ],
      "metadata": {
        "id": "CVLx61T0XKQ4"
      },
      "execution_count": null,
      "outputs": []
    },
    {
      "cell_type": "code",
      "source": [
        "total_score_f=0\n",
        "for i in range (len(df)):\n",
        "  if df['gender'][i]=='female':\n",
        "    total_score_f=total_score_f+df['math score'][i]+df['reading score'][i]+df['writing score'][i]\n",
        "\n",
        "print(total_score_f)\n",
        "\n",
        "total_score_f=0\n",
        "for i in range (len(df)):\n",
        "  if df['gender'][i]=='male' and df['test preparation course'][i]=='completed':\n",
        "    total_score_f=total_score_f+df['math score'][i]+df['reading score'][i]+df['writing score'][i]\n",
        "\n",
        "print(total_score_f)"
      ],
      "metadata": {
        "id": "6xq5WQ10X6Ru"
      },
      "execution_count": null,
      "outputs": []
    },
    {
      "cell_type": "code",
      "source": [
        "https://drive.google.com/drive/folders/1P00ROW3KGhZkknxmo1s-6uXcNmb25h15?usp=sharing\n",
        "\n",
        "\n",
        "\n",
        "https://drive.google.com/drive/folders/1TFTkHHCQtxVpCJxPWg_fcGxV2odK9Z1P?usp=sharing"
      ],
      "metadata": {
        "id": "7G5jVEO2ZW38"
      },
      "execution_count": null,
      "outputs": []
    },
    {
      "cell_type": "code",
      "source": [
        "from google.colab import drive\n",
        "drive.mount('/content/drive')"
      ],
      "metadata": {
        "id": "LBYiq_KmeTxI"
      },
      "execution_count": null,
      "outputs": []
    },
    {
      "cell_type": "code",
      "source": [
        "import pandas as pd\n",
        "import numpy as np\n",
        "\n",
        "import matplotlib.pyplot as plt\n",
        "from sklearn.linear_model import LinearRegression\n",
        "df = pd.read_csv('/content/Automobile.csv')\n",
        "\n",
        "\n",
        "disp_rows=df['displacement'].values.reshape(-1,1)\n",
        "print(disp_rows)\n",
        "\n",
        "origin_names=\n",
        "\n",
        "\n",
        "\n",
        "x = df['horsepower'].values.reshape(-1, 1)\n",
        "y = df['displacement'].values.reshape(-1, 1)\n",
        "regressor = LinearRegression()\n",
        "regressor.fit(x, y)\n",
        "\n",
        "myandmpg = df.groupby('model_year')('mpg')\n",
        "myandmpg.plot(kind='line', xlabel='model_year', ylabel='mpg')\n"
      ],
      "metadata": {
        "colab": {
          "base_uri": "https://localhost:8080/"
        },
        "id": "HXY4d76zennO",
        "outputId": "f02f8771-2e55-41a1-ed42-55b86e26d744"
      },
      "execution_count": null,
      "outputs": [
        {
          "output_type": "stream",
          "name": "stdout",
          "text": [
            "                          name   mpg  cylinders  displacement  horsepower  \\\n",
            "0    chevrolet chevelle malibu  18.0          8         307.0       130.0   \n",
            "1            buick skylark 320  15.0          8         350.0       165.0   \n",
            "2           plymouth satellite  18.0          8         318.0       150.0   \n",
            "3                amc rebel sst  16.0          8         304.0       150.0   \n",
            "4                  ford torino  17.0          8         302.0       140.0   \n",
            "..                         ...   ...        ...           ...         ...   \n",
            "393            ford mustang gl  27.0          4         140.0        86.0   \n",
            "394                  vw pickup  44.0          4          97.0        52.0   \n",
            "395              dodge rampage  32.0          4         135.0        84.0   \n",
            "396                ford ranger  28.0          4         120.0        79.0   \n",
            "397                 chevy s-10  31.0          4         119.0        82.0   \n",
            "\n",
            "     weight  acceleration  model_year  origin  \n",
            "0      3504          12.0          70     usa  \n",
            "1      3693          11.5          70     usa  \n",
            "2      3436          11.0          70     usa  \n",
            "3      3433          12.0          70     usa  \n",
            "4      3449          10.5          70     usa  \n",
            "..      ...           ...         ...     ...  \n",
            "393    2790          15.6          82     usa  \n",
            "394    2130          24.6          82  europe  \n",
            "395    2295          11.6          82     usa  \n",
            "396    2625          18.6          82     usa  \n",
            "397    2720          19.4          82     usa  \n",
            "\n",
            "[398 rows x 9 columns]\n"
          ]
        }
      ]
    },
    {
      "cell_type": "code",
      "source": [
        "import pandas as pd\n",
        "import matplotlib.pyplot as plt\n",
        "from sklearn.linear_model import LinearRegression\n",
        "\n",
        "\n",
        "df = pd.read_csv('/content/Automobile.csv')\n",
        "\n",
        "disp_rows = df['displacement'].values.reshape(-1, 1)\n",
        "print(disp_rows)\n",
        "\n",
        "\n",
        "origin_names = df[['origin', 'name']]\n",
        "print(origin_names)\n",
        "\n",
        "\n",
        "cylinder_range = df[(df['cylinders'] >= 4) & (df['cylinders'] <= 8)]['name']\n",
        "print(cylinder_range)\n",
        "\n",
        "\n",
        "plt.plot(df['model_year'], df['mpg'])\n",
        "plt.xlabel('Model Year')\n",
        "plt.ylabel('MPG')\n",
        "plt.title('MPG by Model Year')\n",
        "plt.show()\n",
        "\n",
        "\n",
        "X = df[['model_year']].values\n",
        "y = df['mpg'].values\n",
        "\n",
        "regression_model = LinearRegression()\n",
        "regression_model.fit(X, y)\n",
        "\n",
        "\n",
        "X_pred = [[year] for year in df['model_year']]\n",
        "y_pred = regression_model.predict(X_pred)\n",
        "print(y_pred)\n",
        "\n"
      ],
      "metadata": {
        "id": "kyoWh7D8m9nm"
      },
      "execution_count": null,
      "outputs": []
    }
  ],
  "metadata": {
    "colab": {
      "provenance": [],
      "mount_file_id": "1kboTyBlRrekCrWz1cpMMnVXOuB_x-fTc",
      "authorship_tag": "ABX9TyNljGASqJenfelu+0hOfm+D",
      "include_colab_link": true
    },
    "kernelspec": {
      "display_name": "Python 3",
      "name": "python3"
    },
    "language_info": {
      "name": "python"
    }
  },
  "nbformat": 4,
  "nbformat_minor": 0
}